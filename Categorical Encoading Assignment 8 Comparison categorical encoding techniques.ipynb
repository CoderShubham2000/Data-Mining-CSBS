{
  "nbformat": 4,
  "nbformat_minor": 0,
  "metadata": {
    "kernelspec": {
      "name": "python393jvsc74a57bd0071a5d89032fd3808cb27563172e896b82f0c2cbf3a41e9bb8348c094bc0a7ac",
      "display_name": "Python 3.9.3 64-bit"
    },
    "language_info": {
      "codemirror_mode": {
        "name": "ipython",
        "version": 3
      },
      "file_extension": ".py",
      "mimetype": "text/x-python",
      "name": "python",
      "nbconvert_exporter": "python",
      "pygments_lexer": "ipython3",
      "version": "3.9.3"
    },
    "toc": {
      "base_numbering": 1,
      "nav_menu": {},
      "number_sections": true,
      "sideBar": true,
      "skip_h1_title": false,
      "title_cell": "Table of Contents",
      "title_sidebar": "Contents",
      "toc_cell": false,
      "toc_position": {},
      "toc_section_display": "block",
      "toc_window_display": true
    },
    "colab": {
      "name": "Categorical Encoading Assignment 8-Comparison-categorical-encoding-techniques.ipynb",
      "provenance": []
    },
    "metadata": {
      "interpreter": {
        "hash": "071a5d89032fd3808cb27563172e896b82f0c2cbf3a41e9bb8348c094bc0a7ac"
      }
    }
  },
  "cells": [
    {
      "cell_type": "code",
      "execution_count": 1,
      "metadata": {},
      "outputs": [],
      "source": [
        "#Shubham Tribedi | 1811100002037"
      ]
    },
    {
      "cell_type": "markdown",
      "metadata": {
        "id": "xKWBmhaW4Crf"
      },
      "source": [
        "## Comparison of Categorical Variable Encodings\n",
        "\n",
        "In this lecture, we will compare the performance of the different feature categorical encoding techniques we learned so far.\n",
        "\n",
        "We will compare:\n",
        "\n",
        "- One hot encoding\n",
        "- Replacing labels by the count\n",
        "- Ordering labels according to target\n",
        "- Mean Encoding\n",
        "- WoE\n",
        "\n",
        "Using the titanic dataset"
      ]
    },
    {
      "cell_type": "code",
      "metadata": {
        "id": "NeoG9peM4Crj"
      },
      "source": [
        "import pandas as pd\n",
        "import numpy as np\n",
        "\n",
        "from sklearn.model_selection import train_test_split\n",
        "\n",
        "from sklearn.linear_model import LogisticRegression\n",
        "from sklearn.ensemble import RandomForestClassifier\n",
        "from pandas.api.types import is_numeric_dtype\n",
        "from sklearn.metrics import roc_auc_score\n",
        "from feature_engine.encoding import *"
      ],
      "execution_count": 3,
      "outputs": []
    },
    {
      "cell_type": "markdown",
      "metadata": {
        "id": "P3mmk9TWHGNX"
      },
      "source": []
    },
    {
      "cell_type": "code",
      "metadata": {
        "id": "mya6jUeV4Crk",
        "outputId": "42e05913-efcd-4172-e317-054e12ae1a9e",
        "colab": {
          "base_uri": "https://localhost:8080/",
          "height": 195
        }
      },
      "source": [
        "# let's load the titanic dataset\n",
        "\n",
        "# we will only use these columns in the demo\n",
        "cols = ['pclass', 'age', 'sibsp', 'parch', 'fare',\n",
        "        'sex', 'cabin', 'embarked', 'survived']\n",
        "\n",
        "data = pd.read_csv('titanic.csv', usecols=cols)\n",
        "\n",
        "data.head()"
      ],
      "execution_count": 4,
      "outputs": [
        {
          "output_type": "execute_result",
          "data": {
            "text/plain": [
              "   pclass  survived     sex      age  sibsp  parch      fare cabin embarked\n",
              "0       1         1  female  29.0000      0      0  211.3375    B5        S\n",
              "1       1         1    male   0.9167      1      2  151.5500   C22        S\n",
              "2       1         0  female   2.0000      1      2  151.5500   C22        S\n",
              "3       1         0    male  30.0000      1      2  151.5500   C22        S\n",
              "4       1         0  female  25.0000      1      2  151.5500   C22        S"
            ],
            "text/html": "<div>\n<style scoped>\n    .dataframe tbody tr th:only-of-type {\n        vertical-align: middle;\n    }\n\n    .dataframe tbody tr th {\n        vertical-align: top;\n    }\n\n    .dataframe thead th {\n        text-align: right;\n    }\n</style>\n<table border=\"1\" class=\"dataframe\">\n  <thead>\n    <tr style=\"text-align: right;\">\n      <th></th>\n      <th>pclass</th>\n      <th>survived</th>\n      <th>sex</th>\n      <th>age</th>\n      <th>sibsp</th>\n      <th>parch</th>\n      <th>fare</th>\n      <th>cabin</th>\n      <th>embarked</th>\n    </tr>\n  </thead>\n  <tbody>\n    <tr>\n      <th>0</th>\n      <td>1</td>\n      <td>1</td>\n      <td>female</td>\n      <td>29.0000</td>\n      <td>0</td>\n      <td>0</td>\n      <td>211.3375</td>\n      <td>B5</td>\n      <td>S</td>\n    </tr>\n    <tr>\n      <th>1</th>\n      <td>1</td>\n      <td>1</td>\n      <td>male</td>\n      <td>0.9167</td>\n      <td>1</td>\n      <td>2</td>\n      <td>151.5500</td>\n      <td>C22</td>\n      <td>S</td>\n    </tr>\n    <tr>\n      <th>2</th>\n      <td>1</td>\n      <td>0</td>\n      <td>female</td>\n      <td>2.0000</td>\n      <td>1</td>\n      <td>2</td>\n      <td>151.5500</td>\n      <td>C22</td>\n      <td>S</td>\n    </tr>\n    <tr>\n      <th>3</th>\n      <td>1</td>\n      <td>0</td>\n      <td>male</td>\n      <td>30.0000</td>\n      <td>1</td>\n      <td>2</td>\n      <td>151.5500</td>\n      <td>C22</td>\n      <td>S</td>\n    </tr>\n    <tr>\n      <th>4</th>\n      <td>1</td>\n      <td>0</td>\n      <td>female</td>\n      <td>25.0000</td>\n      <td>1</td>\n      <td>2</td>\n      <td>151.5500</td>\n      <td>C22</td>\n      <td>S</td>\n    </tr>\n  </tbody>\n</table>\n</div>"
          },
          "metadata": {},
          "execution_count": 4
        }
      ]
    },
    {
      "cell_type": "code",
      "metadata": {
        "id": "Ls9JvgYz4Crm",
        "outputId": "7c0d29c7-17f2-44b9-ae11-dfcb7257e828",
        "colab": {
          "base_uri": "https://localhost:8080/"
        }
      },
      "source": [
        "# let's check for missing data\n",
        "\n",
        "data.isnull().sum()"
      ],
      "execution_count": 5,
      "outputs": [
        {
          "output_type": "execute_result",
          "data": {
            "text/plain": [
              "pclass         0\n",
              "survived       0\n",
              "sex            0\n",
              "age          263\n",
              "sibsp          0\n",
              "parch          0\n",
              "fare           1\n",
              "cabin       1014\n",
              "embarked       2\n",
              "dtype: int64"
            ]
          },
          "metadata": {},
          "execution_count": 5
        }
      ]
    },
    {
      "cell_type": "code",
      "metadata": {
        "id": "gZ_YZbH24Crm"
      },
      "source": [
        "# Drop observations with NA in Fare and embarked\n",
        "data.dropna(axis=0,how='any',inplace=True,subset=['fare','embarked','age','cabin'])"
      ],
      "execution_count": 6,
      "outputs": []
    },
    {
      "cell_type": "code",
      "metadata": {
        "id": "sbZSTqRm-4Pk",
        "outputId": "76046faa-e004-4fa0-a54c-127580d2cd63",
        "colab": {
          "base_uri": "https://localhost:8080/"
        }
      },
      "source": [
        "data.isnull().sum()"
      ],
      "execution_count": 7,
      "outputs": [
        {
          "output_type": "execute_result",
          "data": {
            "text/plain": [
              "pclass      0\n",
              "survived    0\n",
              "sex         0\n",
              "age         0\n",
              "sibsp       0\n",
              "parch       0\n",
              "fare        0\n",
              "cabin       0\n",
              "embarked    0\n",
              "dtype: int64"
            ]
          },
          "metadata": {},
          "execution_count": 7
        }
      ]
    },
    {
      "cell_type": "code",
      "metadata": {
        "id": "330Z5jin4Crn",
        "outputId": "b73e523d-c183-47f0-b506-890391872ea8",
        "colab": {
          "base_uri": "https://localhost:8080/",
          "height": 195
        }
      },
      "source": [
        "# Now we extract the first letter of the cabin\n",
        "data['cabin'] = data['cabin'].str[0]\n",
        "data.head()"
      ],
      "execution_count": 8,
      "outputs": [
        {
          "output_type": "execute_result",
          "data": {
            "text/plain": [
              "   pclass  survived     sex      age  sibsp  parch      fare cabin embarked\n",
              "0       1         1  female  29.0000      0      0  211.3375     B        S\n",
              "1       1         1    male   0.9167      1      2  151.5500     C        S\n",
              "2       1         0  female   2.0000      1      2  151.5500     C        S\n",
              "3       1         0    male  30.0000      1      2  151.5500     C        S\n",
              "4       1         0  female  25.0000      1      2  151.5500     C        S"
            ],
            "text/html": "<div>\n<style scoped>\n    .dataframe tbody tr th:only-of-type {\n        vertical-align: middle;\n    }\n\n    .dataframe tbody tr th {\n        vertical-align: top;\n    }\n\n    .dataframe thead th {\n        text-align: right;\n    }\n</style>\n<table border=\"1\" class=\"dataframe\">\n  <thead>\n    <tr style=\"text-align: right;\">\n      <th></th>\n      <th>pclass</th>\n      <th>survived</th>\n      <th>sex</th>\n      <th>age</th>\n      <th>sibsp</th>\n      <th>parch</th>\n      <th>fare</th>\n      <th>cabin</th>\n      <th>embarked</th>\n    </tr>\n  </thead>\n  <tbody>\n    <tr>\n      <th>0</th>\n      <td>1</td>\n      <td>1</td>\n      <td>female</td>\n      <td>29.0000</td>\n      <td>0</td>\n      <td>0</td>\n      <td>211.3375</td>\n      <td>B</td>\n      <td>S</td>\n    </tr>\n    <tr>\n      <th>1</th>\n      <td>1</td>\n      <td>1</td>\n      <td>male</td>\n      <td>0.9167</td>\n      <td>1</td>\n      <td>2</td>\n      <td>151.5500</td>\n      <td>C</td>\n      <td>S</td>\n    </tr>\n    <tr>\n      <th>2</th>\n      <td>1</td>\n      <td>0</td>\n      <td>female</td>\n      <td>2.0000</td>\n      <td>1</td>\n      <td>2</td>\n      <td>151.5500</td>\n      <td>C</td>\n      <td>S</td>\n    </tr>\n    <tr>\n      <th>3</th>\n      <td>1</td>\n      <td>0</td>\n      <td>male</td>\n      <td>30.0000</td>\n      <td>1</td>\n      <td>2</td>\n      <td>151.5500</td>\n      <td>C</td>\n      <td>S</td>\n    </tr>\n    <tr>\n      <th>4</th>\n      <td>1</td>\n      <td>0</td>\n      <td>female</td>\n      <td>25.0000</td>\n      <td>1</td>\n      <td>2</td>\n      <td>151.5500</td>\n      <td>C</td>\n      <td>S</td>\n    </tr>\n  </tbody>\n</table>\n</div>"
          },
          "metadata": {},
          "execution_count": 8
        }
      ]
    },
    {
      "cell_type": "code",
      "metadata": {
        "id": "V9Q8A7kc4Cro"
      },
      "source": [
        "# drop observations with cabin = T, they are too few\n",
        "data=data[data.cabin!='T']"
      ],
      "execution_count": 9,
      "outputs": []
    },
    {
      "cell_type": "code",
      "metadata": {
        "id": "19vuoOFA4Cro",
        "outputId": "f4fd0bb5-77a5-4683-f91a-8e274aaa278c",
        "colab": {
          "base_uri": "https://localhost:8080/"
        }
      },
      "source": [
        "# Let's divide into train and test set\n",
        "X_train,X_test,Y_train,Y_test=train_test_split(data.loc[:,data.columns!='survived'],data.loc[:,data.columns=='survived'],test_size=0.3)\n",
        "X_train.shape, X_test.shape"
      ],
      "execution_count": 10,
      "outputs": [
        {
          "output_type": "execute_result",
          "data": {
            "text/plain": [
              "((188, 8), (81, 8))"
            ]
          },
          "metadata": {},
          "execution_count": 10
        }
      ]
    },
    {
      "cell_type": "code",
      "metadata": {
        "id": "UDAaDkyH4Cro"
      },
      "source": [
        "# Let's replace null values in numerical variables by the mean\n",
        "for i in X_train:\n",
        "    if is_numeric_dtype(X_train[i])==True:\n",
        "        \n",
        "        X_train[i].fillna(X_train[i].mean(),inplace=True)\n",
        "        X_test[i].fillna(X_test[i].mean(),inplace=True)"
      ],
      "execution_count": 11,
      "outputs": []
    },
    {
      "cell_type": "code",
      "metadata": {
        "id": "qbk9Iu-i4Crp",
        "outputId": "a9649506-d3d1-4afc-d509-f6f691964970",
        "colab": {
          "base_uri": "https://localhost:8080/"
        }
      },
      "source": [
        "data['cabin'].unique()"
      ],
      "execution_count": 12,
      "outputs": [
        {
          "output_type": "execute_result",
          "data": {
            "text/plain": [
              "array(['B', 'C', 'E', 'D', 'A', 'F', 'G'], dtype=object)"
            ]
          },
          "metadata": {},
          "execution_count": 12
        }
      ]
    },
    {
      "cell_type": "code",
      "metadata": {
        "id": "qgBu5BdV4Crp",
        "outputId": "bf6f0691-ecd6-4935-8977-3a1a01fa558d",
        "colab": {
          "base_uri": "https://localhost:8080/"
        }
      },
      "source": [
        "# let's check that we have no missing data after NA imputation\n",
        "data.isnull().sum()"
      ],
      "execution_count": 13,
      "outputs": [
        {
          "output_type": "execute_result",
          "data": {
            "text/plain": [
              "pclass      0\n",
              "survived    0\n",
              "sex         0\n",
              "age         0\n",
              "sibsp       0\n",
              "parch       0\n",
              "fare        0\n",
              "cabin       0\n",
              "embarked    0\n",
              "dtype: int64"
            ]
          },
          "metadata": {},
          "execution_count": 13
        }
      ]
    },
    {
      "cell_type": "code",
      "metadata": {
        "id": "Xx47MjO2EZXu",
        "outputId": "9be242c8-ccf4-492b-d21a-78bdc85e6e00",
        "colab": {
          "base_uri": "https://localhost:8080/",
          "height": 402
        }
      },
      "source": [
        "X_train"
      ],
      "execution_count": 14,
      "outputs": [
        {
          "output_type": "execute_result",
          "data": {
            "text/plain": [
              "     pclass     sex   age  sibsp  parch      fare cabin embarked\n",
              "206       1    male  44.0      2      0   90.0000     C        Q\n",
              "10        1    male  47.0      1      0  227.5250     C        C\n",
              "275       1  female  40.0      1      1  134.5000     E        C\n",
              "65        1  female  33.0      1      0   53.1000     E        S\n",
              "252       1    male  61.0      1      3  262.3750     B        C\n",
              "..      ...     ...   ...    ...    ...       ...   ...      ...\n",
              "178       1  female  45.0      1      0   52.5542     D        S\n",
              "26        1    male  25.0      1      0   91.0792     B        C\n",
              "135       1    male  71.0      0      0   34.6542     A        C\n",
              "286       1  female  63.0      1      0  221.7792     C        S\n",
              "109       1    male  36.0      0      0   26.3875     E        S\n",
              "\n",
              "[188 rows x 8 columns]"
            ],
            "text/html": "<div>\n<style scoped>\n    .dataframe tbody tr th:only-of-type {\n        vertical-align: middle;\n    }\n\n    .dataframe tbody tr th {\n        vertical-align: top;\n    }\n\n    .dataframe thead th {\n        text-align: right;\n    }\n</style>\n<table border=\"1\" class=\"dataframe\">\n  <thead>\n    <tr style=\"text-align: right;\">\n      <th></th>\n      <th>pclass</th>\n      <th>sex</th>\n      <th>age</th>\n      <th>sibsp</th>\n      <th>parch</th>\n      <th>fare</th>\n      <th>cabin</th>\n      <th>embarked</th>\n    </tr>\n  </thead>\n  <tbody>\n    <tr>\n      <th>206</th>\n      <td>1</td>\n      <td>male</td>\n      <td>44.0</td>\n      <td>2</td>\n      <td>0</td>\n      <td>90.0000</td>\n      <td>C</td>\n      <td>Q</td>\n    </tr>\n    <tr>\n      <th>10</th>\n      <td>1</td>\n      <td>male</td>\n      <td>47.0</td>\n      <td>1</td>\n      <td>0</td>\n      <td>227.5250</td>\n      <td>C</td>\n      <td>C</td>\n    </tr>\n    <tr>\n      <th>275</th>\n      <td>1</td>\n      <td>female</td>\n      <td>40.0</td>\n      <td>1</td>\n      <td>1</td>\n      <td>134.5000</td>\n      <td>E</td>\n      <td>C</td>\n    </tr>\n    <tr>\n      <th>65</th>\n      <td>1</td>\n      <td>female</td>\n      <td>33.0</td>\n      <td>1</td>\n      <td>0</td>\n      <td>53.1000</td>\n      <td>E</td>\n      <td>S</td>\n    </tr>\n    <tr>\n      <th>252</th>\n      <td>1</td>\n      <td>male</td>\n      <td>61.0</td>\n      <td>1</td>\n      <td>3</td>\n      <td>262.3750</td>\n      <td>B</td>\n      <td>C</td>\n    </tr>\n    <tr>\n      <th>...</th>\n      <td>...</td>\n      <td>...</td>\n      <td>...</td>\n      <td>...</td>\n      <td>...</td>\n      <td>...</td>\n      <td>...</td>\n      <td>...</td>\n    </tr>\n    <tr>\n      <th>178</th>\n      <td>1</td>\n      <td>female</td>\n      <td>45.0</td>\n      <td>1</td>\n      <td>0</td>\n      <td>52.5542</td>\n      <td>D</td>\n      <td>S</td>\n    </tr>\n    <tr>\n      <th>26</th>\n      <td>1</td>\n      <td>male</td>\n      <td>25.0</td>\n      <td>1</td>\n      <td>0</td>\n      <td>91.0792</td>\n      <td>B</td>\n      <td>C</td>\n    </tr>\n    <tr>\n      <th>135</th>\n      <td>1</td>\n      <td>male</td>\n      <td>71.0</td>\n      <td>0</td>\n      <td>0</td>\n      <td>34.6542</td>\n      <td>A</td>\n      <td>C</td>\n    </tr>\n    <tr>\n      <th>286</th>\n      <td>1</td>\n      <td>female</td>\n      <td>63.0</td>\n      <td>1</td>\n      <td>0</td>\n      <td>221.7792</td>\n      <td>C</td>\n      <td>S</td>\n    </tr>\n    <tr>\n      <th>109</th>\n      <td>1</td>\n      <td>male</td>\n      <td>36.0</td>\n      <td>0</td>\n      <td>0</td>\n      <td>26.3875</td>\n      <td>E</td>\n      <td>S</td>\n    </tr>\n  </tbody>\n</table>\n<p>188 rows × 8 columns</p>\n</div>"
          },
          "metadata": {},
          "execution_count": 14
        }
      ]
    },
    {
      "cell_type": "markdown",
      "metadata": {
        "id": "UtD5SV-s4Crq"
      },
      "source": [
        "### One Hot Encoding"
      ]
    },
    {
      "cell_type": "code",
      "metadata": {
        "id": "hH4l-mQM4Crq",
        "outputId": "98f4504b-ecad-4902-bc11-fbb970588a01",
        "colab": {
          "base_uri": "https://localhost:8080/",
          "height": 215
        }
      },
      "source": [
        "X_train_OHE=OneHotEncoder().fit(X_train,Y_train).transform(X_train)\n",
        "\n",
        "X_train_OHE.head()"
      ],
      "execution_count": 15,
      "outputs": [
        {
          "output_type": "execute_result",
          "data": {
            "text/plain": [
              "     pclass   age  sibsp  parch     fare  sex_male  sex_female  cabin_C  \\\n",
              "206       1  44.0      2      0   90.000         1           0        1   \n",
              "10        1  47.0      1      0  227.525         1           0        1   \n",
              "275       1  40.0      1      1  134.500         0           1        0   \n",
              "65        1  33.0      1      0   53.100         0           1        0   \n",
              "252       1  61.0      1      3  262.375         1           0        0   \n",
              "\n",
              "     cabin_E  cabin_B  cabin_D  cabin_F  cabin_A  cabin_G  embarked_Q  \\\n",
              "206        0        0        0        0        0        0           1   \n",
              "10         0        0        0        0        0        0           0   \n",
              "275        1        0        0        0        0        0           0   \n",
              "65         1        0        0        0        0        0           0   \n",
              "252        0        1        0        0        0        0           0   \n",
              "\n",
              "     embarked_C  embarked_S  \n",
              "206           0           0  \n",
              "10            1           0  \n",
              "275           1           0  \n",
              "65            0           1  \n",
              "252           1           0  "
            ],
            "text/html": "<div>\n<style scoped>\n    .dataframe tbody tr th:only-of-type {\n        vertical-align: middle;\n    }\n\n    .dataframe tbody tr th {\n        vertical-align: top;\n    }\n\n    .dataframe thead th {\n        text-align: right;\n    }\n</style>\n<table border=\"1\" class=\"dataframe\">\n  <thead>\n    <tr style=\"text-align: right;\">\n      <th></th>\n      <th>pclass</th>\n      <th>age</th>\n      <th>sibsp</th>\n      <th>parch</th>\n      <th>fare</th>\n      <th>sex_male</th>\n      <th>sex_female</th>\n      <th>cabin_C</th>\n      <th>cabin_E</th>\n      <th>cabin_B</th>\n      <th>cabin_D</th>\n      <th>cabin_F</th>\n      <th>cabin_A</th>\n      <th>cabin_G</th>\n      <th>embarked_Q</th>\n      <th>embarked_C</th>\n      <th>embarked_S</th>\n    </tr>\n  </thead>\n  <tbody>\n    <tr>\n      <th>206</th>\n      <td>1</td>\n      <td>44.0</td>\n      <td>2</td>\n      <td>0</td>\n      <td>90.000</td>\n      <td>1</td>\n      <td>0</td>\n      <td>1</td>\n      <td>0</td>\n      <td>0</td>\n      <td>0</td>\n      <td>0</td>\n      <td>0</td>\n      <td>0</td>\n      <td>1</td>\n      <td>0</td>\n      <td>0</td>\n    </tr>\n    <tr>\n      <th>10</th>\n      <td>1</td>\n      <td>47.0</td>\n      <td>1</td>\n      <td>0</td>\n      <td>227.525</td>\n      <td>1</td>\n      <td>0</td>\n      <td>1</td>\n      <td>0</td>\n      <td>0</td>\n      <td>0</td>\n      <td>0</td>\n      <td>0</td>\n      <td>0</td>\n      <td>0</td>\n      <td>1</td>\n      <td>0</td>\n    </tr>\n    <tr>\n      <th>275</th>\n      <td>1</td>\n      <td>40.0</td>\n      <td>1</td>\n      <td>1</td>\n      <td>134.500</td>\n      <td>0</td>\n      <td>1</td>\n      <td>0</td>\n      <td>1</td>\n      <td>0</td>\n      <td>0</td>\n      <td>0</td>\n      <td>0</td>\n      <td>0</td>\n      <td>0</td>\n      <td>1</td>\n      <td>0</td>\n    </tr>\n    <tr>\n      <th>65</th>\n      <td>1</td>\n      <td>33.0</td>\n      <td>1</td>\n      <td>0</td>\n      <td>53.100</td>\n      <td>0</td>\n      <td>1</td>\n      <td>0</td>\n      <td>1</td>\n      <td>0</td>\n      <td>0</td>\n      <td>0</td>\n      <td>0</td>\n      <td>0</td>\n      <td>0</td>\n      <td>0</td>\n      <td>1</td>\n    </tr>\n    <tr>\n      <th>252</th>\n      <td>1</td>\n      <td>61.0</td>\n      <td>1</td>\n      <td>3</td>\n      <td>262.375</td>\n      <td>1</td>\n      <td>0</td>\n      <td>0</td>\n      <td>0</td>\n      <td>1</td>\n      <td>0</td>\n      <td>0</td>\n      <td>0</td>\n      <td>0</td>\n      <td>0</td>\n      <td>1</td>\n      <td>0</td>\n    </tr>\n  </tbody>\n</table>\n</div>"
          },
          "metadata": {},
          "execution_count": 15
        }
      ]
    },
    {
      "cell_type": "code",
      "metadata": {
        "id": "MCYv2CCC4Crq",
        "outputId": "22eb0d90-0a65-43dc-a309-f929ac996b81",
        "colab": {
          "base_uri": "https://localhost:8080/",
          "height": 215
        }
      },
      "source": [
        "X_test_OHE=OneHotEncoder().fit(X_train,Y_train).transform(X_test)\n",
        "\n",
        "X_test_OHE.head()"
      ],
      "execution_count": 16,
      "outputs": [
        {
          "output_type": "execute_result",
          "data": {
            "text/plain": [
              "     pclass   age  sibsp  parch      fare  sex_male  sex_female  cabin_C  \\\n",
              "165       1  38.0      1      0   90.0000         1           0        1   \n",
              "103       1  38.0      0      0  227.5250         0           1        1   \n",
              "270       1  18.0      1      0   60.0000         0           1        1   \n",
              "202       1  36.0      0      0   26.2875         1           0        0   \n",
              "24        1  29.0      0      0  221.7792         0           1        1   \n",
              "\n",
              "     cabin_E  cabin_B  cabin_D  cabin_F  cabin_A  cabin_G  embarked_Q  \\\n",
              "165        0        0        0        0        0        0           0   \n",
              "103        0        0        0        0        0        0           0   \n",
              "270        0        0        0        0        0        0           0   \n",
              "202        1        0        0        0        0        0           0   \n",
              "24         0        0        0        0        0        0           0   \n",
              "\n",
              "     embarked_C  embarked_S  \n",
              "165           0           1  \n",
              "103           1           0  \n",
              "270           0           1  \n",
              "202           0           1  \n",
              "24            0           1  "
            ],
            "text/html": "<div>\n<style scoped>\n    .dataframe tbody tr th:only-of-type {\n        vertical-align: middle;\n    }\n\n    .dataframe tbody tr th {\n        vertical-align: top;\n    }\n\n    .dataframe thead th {\n        text-align: right;\n    }\n</style>\n<table border=\"1\" class=\"dataframe\">\n  <thead>\n    <tr style=\"text-align: right;\">\n      <th></th>\n      <th>pclass</th>\n      <th>age</th>\n      <th>sibsp</th>\n      <th>parch</th>\n      <th>fare</th>\n      <th>sex_male</th>\n      <th>sex_female</th>\n      <th>cabin_C</th>\n      <th>cabin_E</th>\n      <th>cabin_B</th>\n      <th>cabin_D</th>\n      <th>cabin_F</th>\n      <th>cabin_A</th>\n      <th>cabin_G</th>\n      <th>embarked_Q</th>\n      <th>embarked_C</th>\n      <th>embarked_S</th>\n    </tr>\n  </thead>\n  <tbody>\n    <tr>\n      <th>165</th>\n      <td>1</td>\n      <td>38.0</td>\n      <td>1</td>\n      <td>0</td>\n      <td>90.0000</td>\n      <td>1</td>\n      <td>0</td>\n      <td>1</td>\n      <td>0</td>\n      <td>0</td>\n      <td>0</td>\n      <td>0</td>\n      <td>0</td>\n      <td>0</td>\n      <td>0</td>\n      <td>0</td>\n      <td>1</td>\n    </tr>\n    <tr>\n      <th>103</th>\n      <td>1</td>\n      <td>38.0</td>\n      <td>0</td>\n      <td>0</td>\n      <td>227.5250</td>\n      <td>0</td>\n      <td>1</td>\n      <td>1</td>\n      <td>0</td>\n      <td>0</td>\n      <td>0</td>\n      <td>0</td>\n      <td>0</td>\n      <td>0</td>\n      <td>0</td>\n      <td>1</td>\n      <td>0</td>\n    </tr>\n    <tr>\n      <th>270</th>\n      <td>1</td>\n      <td>18.0</td>\n      <td>1</td>\n      <td>0</td>\n      <td>60.0000</td>\n      <td>0</td>\n      <td>1</td>\n      <td>1</td>\n      <td>0</td>\n      <td>0</td>\n      <td>0</td>\n      <td>0</td>\n      <td>0</td>\n      <td>0</td>\n      <td>0</td>\n      <td>0</td>\n      <td>1</td>\n    </tr>\n    <tr>\n      <th>202</th>\n      <td>1</td>\n      <td>36.0</td>\n      <td>0</td>\n      <td>0</td>\n      <td>26.2875</td>\n      <td>1</td>\n      <td>0</td>\n      <td>0</td>\n      <td>1</td>\n      <td>0</td>\n      <td>0</td>\n      <td>0</td>\n      <td>0</td>\n      <td>0</td>\n      <td>0</td>\n      <td>0</td>\n      <td>1</td>\n    </tr>\n    <tr>\n      <th>24</th>\n      <td>1</td>\n      <td>29.0</td>\n      <td>0</td>\n      <td>0</td>\n      <td>221.7792</td>\n      <td>0</td>\n      <td>1</td>\n      <td>1</td>\n      <td>0</td>\n      <td>0</td>\n      <td>0</td>\n      <td>0</td>\n      <td>0</td>\n      <td>0</td>\n      <td>0</td>\n      <td>0</td>\n      <td>1</td>\n    </tr>\n  </tbody>\n</table>\n</div>"
          },
          "metadata": {},
          "execution_count": 16
        }
      ]
    },
    {
      "cell_type": "markdown",
      "metadata": {
        "id": "E_tcm5F84Crr"
      },
      "source": [
        "### Count encoding"
      ]
    },
    {
      "cell_type": "code",
      "metadata": {
        "colab": {
          "base_uri": "https://localhost:8080/",
          "height": 195
        },
        "id": "DmDfgDdx4Crr",
        "outputId": "bbd8ac7a-8aaf-4316-e91a-f44c1cc06e7a"
      },
      "source": [
        "X_train_count=CountFrequencyEncoder().fit(X_train,Y_train).transform(X_train)\n",
        "\n",
        "X_train_count.head()"
      ],
      "execution_count": 17,
      "outputs": [
        {
          "output_type": "execute_result",
          "data": {
            "text/plain": [
              "     pclass  sex   age  sibsp  parch     fare  cabin  embarked\n",
              "206       1  100  44.0      2      0   90.000     56         2\n",
              "10        1  100  47.0      1      0  227.525     56        78\n",
              "275       1   88  40.0      1      1  134.500     28        78\n",
              "65        1   88  33.0      1      0   53.100     28       108\n",
              "252       1  100  61.0      1      3  262.375     44        78"
            ],
            "text/html": "<div>\n<style scoped>\n    .dataframe tbody tr th:only-of-type {\n        vertical-align: middle;\n    }\n\n    .dataframe tbody tr th {\n        vertical-align: top;\n    }\n\n    .dataframe thead th {\n        text-align: right;\n    }\n</style>\n<table border=\"1\" class=\"dataframe\">\n  <thead>\n    <tr style=\"text-align: right;\">\n      <th></th>\n      <th>pclass</th>\n      <th>sex</th>\n      <th>age</th>\n      <th>sibsp</th>\n      <th>parch</th>\n      <th>fare</th>\n      <th>cabin</th>\n      <th>embarked</th>\n    </tr>\n  </thead>\n  <tbody>\n    <tr>\n      <th>206</th>\n      <td>1</td>\n      <td>100</td>\n      <td>44.0</td>\n      <td>2</td>\n      <td>0</td>\n      <td>90.000</td>\n      <td>56</td>\n      <td>2</td>\n    </tr>\n    <tr>\n      <th>10</th>\n      <td>1</td>\n      <td>100</td>\n      <td>47.0</td>\n      <td>1</td>\n      <td>0</td>\n      <td>227.525</td>\n      <td>56</td>\n      <td>78</td>\n    </tr>\n    <tr>\n      <th>275</th>\n      <td>1</td>\n      <td>88</td>\n      <td>40.0</td>\n      <td>1</td>\n      <td>1</td>\n      <td>134.500</td>\n      <td>28</td>\n      <td>78</td>\n    </tr>\n    <tr>\n      <th>65</th>\n      <td>1</td>\n      <td>88</td>\n      <td>33.0</td>\n      <td>1</td>\n      <td>0</td>\n      <td>53.100</td>\n      <td>28</td>\n      <td>108</td>\n    </tr>\n    <tr>\n      <th>252</th>\n      <td>1</td>\n      <td>100</td>\n      <td>61.0</td>\n      <td>1</td>\n      <td>3</td>\n      <td>262.375</td>\n      <td>44</td>\n      <td>78</td>\n    </tr>\n  </tbody>\n</table>\n</div>"
          },
          "metadata": {},
          "execution_count": 17
        }
      ]
    },
    {
      "cell_type": "code",
      "metadata": {
        "id": "VfyS4fZEP6Ku",
        "outputId": "3795e2e5-db19-4bb9-fc71-dad3930e8aad",
        "colab": {
          "base_uri": "https://localhost:8080/",
          "height": 195
        }
      },
      "source": [
        "X_test_count=CountFrequencyEncoder().fit(X_train,Y_train).transform(X_test)\n",
        "\n",
        "X_test_count.head()"
      ],
      "execution_count": 18,
      "outputs": [
        {
          "output_type": "execute_result",
          "data": {
            "text/plain": [
              "     pclass  sex   age  sibsp  parch      fare  cabin  embarked\n",
              "165       1  100  38.0      1      0   90.0000     56       108\n",
              "103       1   88  38.0      0      0  227.5250     56        78\n",
              "270       1   88  18.0      1      0   60.0000     56       108\n",
              "202       1  100  36.0      0      0   26.2875     28       108\n",
              "24        1   88  29.0      0      0  221.7792     56       108"
            ],
            "text/html": "<div>\n<style scoped>\n    .dataframe tbody tr th:only-of-type {\n        vertical-align: middle;\n    }\n\n    .dataframe tbody tr th {\n        vertical-align: top;\n    }\n\n    .dataframe thead th {\n        text-align: right;\n    }\n</style>\n<table border=\"1\" class=\"dataframe\">\n  <thead>\n    <tr style=\"text-align: right;\">\n      <th></th>\n      <th>pclass</th>\n      <th>sex</th>\n      <th>age</th>\n      <th>sibsp</th>\n      <th>parch</th>\n      <th>fare</th>\n      <th>cabin</th>\n      <th>embarked</th>\n    </tr>\n  </thead>\n  <tbody>\n    <tr>\n      <th>165</th>\n      <td>1</td>\n      <td>100</td>\n      <td>38.0</td>\n      <td>1</td>\n      <td>0</td>\n      <td>90.0000</td>\n      <td>56</td>\n      <td>108</td>\n    </tr>\n    <tr>\n      <th>103</th>\n      <td>1</td>\n      <td>88</td>\n      <td>38.0</td>\n      <td>0</td>\n      <td>0</td>\n      <td>227.5250</td>\n      <td>56</td>\n      <td>78</td>\n    </tr>\n    <tr>\n      <th>270</th>\n      <td>1</td>\n      <td>88</td>\n      <td>18.0</td>\n      <td>1</td>\n      <td>0</td>\n      <td>60.0000</td>\n      <td>56</td>\n      <td>108</td>\n    </tr>\n    <tr>\n      <th>202</th>\n      <td>1</td>\n      <td>100</td>\n      <td>36.0</td>\n      <td>0</td>\n      <td>0</td>\n      <td>26.2875</td>\n      <td>28</td>\n      <td>108</td>\n    </tr>\n    <tr>\n      <th>24</th>\n      <td>1</td>\n      <td>88</td>\n      <td>29.0</td>\n      <td>0</td>\n      <td>0</td>\n      <td>221.7792</td>\n      <td>56</td>\n      <td>108</td>\n    </tr>\n  </tbody>\n</table>\n</div>"
          },
          "metadata": {},
          "execution_count": 18
        }
      ]
    },
    {
      "cell_type": "markdown",
      "metadata": {
        "id": "4iFFor6J4Crs"
      },
      "source": [
        "### Ordered Integer Encoding"
      ]
    },
    {
      "cell_type": "code",
      "metadata": {
        "id": "qJj33eA94Crs",
        "outputId": "5a28d610-a928-41fa-ff01-2c000c6cc977",
        "colab": {
          "base_uri": "https://localhost:8080/",
          "height": 195
        }
      },
      "source": [
        "X_train_ordered=OrdinalEncoder().fit(X_train,Y_train).transform(X_train)\n",
        "\n",
        "X_train_ordered.head()"
      ],
      "execution_count": 19,
      "outputs": [
        {
          "output_type": "execute_result",
          "data": {
            "text/plain": [
              "     pclass  sex   age  sibsp  parch     fare  cabin  embarked\n",
              "206       1    0  44.0      2      0   90.000      1         0\n",
              "10        1    0  47.0      1      0  227.525      1         2\n",
              "275       1    1  40.0      1      1  134.500      4         2\n",
              "65        1    1  33.0      1      0   53.100      4         1\n",
              "252       1    0  61.0      1      3  262.375      5         2"
            ],
            "text/html": "<div>\n<style scoped>\n    .dataframe tbody tr th:only-of-type {\n        vertical-align: middle;\n    }\n\n    .dataframe tbody tr th {\n        vertical-align: top;\n    }\n\n    .dataframe thead th {\n        text-align: right;\n    }\n</style>\n<table border=\"1\" class=\"dataframe\">\n  <thead>\n    <tr style=\"text-align: right;\">\n      <th></th>\n      <th>pclass</th>\n      <th>sex</th>\n      <th>age</th>\n      <th>sibsp</th>\n      <th>parch</th>\n      <th>fare</th>\n      <th>cabin</th>\n      <th>embarked</th>\n    </tr>\n  </thead>\n  <tbody>\n    <tr>\n      <th>206</th>\n      <td>1</td>\n      <td>0</td>\n      <td>44.0</td>\n      <td>2</td>\n      <td>0</td>\n      <td>90.000</td>\n      <td>1</td>\n      <td>0</td>\n    </tr>\n    <tr>\n      <th>10</th>\n      <td>1</td>\n      <td>0</td>\n      <td>47.0</td>\n      <td>1</td>\n      <td>0</td>\n      <td>227.525</td>\n      <td>1</td>\n      <td>2</td>\n    </tr>\n    <tr>\n      <th>275</th>\n      <td>1</td>\n      <td>1</td>\n      <td>40.0</td>\n      <td>1</td>\n      <td>1</td>\n      <td>134.500</td>\n      <td>4</td>\n      <td>2</td>\n    </tr>\n    <tr>\n      <th>65</th>\n      <td>1</td>\n      <td>1</td>\n      <td>33.0</td>\n      <td>1</td>\n      <td>0</td>\n      <td>53.100</td>\n      <td>4</td>\n      <td>1</td>\n    </tr>\n    <tr>\n      <th>252</th>\n      <td>1</td>\n      <td>0</td>\n      <td>61.0</td>\n      <td>1</td>\n      <td>3</td>\n      <td>262.375</td>\n      <td>5</td>\n      <td>2</td>\n    </tr>\n  </tbody>\n</table>\n</div>"
          },
          "metadata": {},
          "execution_count": 19
        }
      ]
    },
    {
      "cell_type": "code",
      "metadata": {
        "id": "i5ev1p1fQQ5e",
        "outputId": "54831af6-f987-449e-9c6d-b666b9d3e5fc",
        "colab": {
          "base_uri": "https://localhost:8080/",
          "height": 195
        }
      },
      "source": [
        "X_test_ordered=OrdinalEncoder().fit(X_train,Y_train).transform(X_test)\n",
        "\n",
        "X_test_ordered.head()"
      ],
      "execution_count": 20,
      "outputs": [
        {
          "output_type": "execute_result",
          "data": {
            "text/plain": [
              "     pclass  sex   age  sibsp  parch      fare  cabin  embarked\n",
              "165       1    0  38.0      1      0   90.0000      1         1\n",
              "103       1    1  38.0      0      0  227.5250      1         2\n",
              "270       1    1  18.0      1      0   60.0000      1         1\n",
              "202       1    0  36.0      0      0   26.2875      4         1\n",
              "24        1    1  29.0      0      0  221.7792      1         1"
            ],
            "text/html": "<div>\n<style scoped>\n    .dataframe tbody tr th:only-of-type {\n        vertical-align: middle;\n    }\n\n    .dataframe tbody tr th {\n        vertical-align: top;\n    }\n\n    .dataframe thead th {\n        text-align: right;\n    }\n</style>\n<table border=\"1\" class=\"dataframe\">\n  <thead>\n    <tr style=\"text-align: right;\">\n      <th></th>\n      <th>pclass</th>\n      <th>sex</th>\n      <th>age</th>\n      <th>sibsp</th>\n      <th>parch</th>\n      <th>fare</th>\n      <th>cabin</th>\n      <th>embarked</th>\n    </tr>\n  </thead>\n  <tbody>\n    <tr>\n      <th>165</th>\n      <td>1</td>\n      <td>0</td>\n      <td>38.0</td>\n      <td>1</td>\n      <td>0</td>\n      <td>90.0000</td>\n      <td>1</td>\n      <td>1</td>\n    </tr>\n    <tr>\n      <th>103</th>\n      <td>1</td>\n      <td>1</td>\n      <td>38.0</td>\n      <td>0</td>\n      <td>0</td>\n      <td>227.5250</td>\n      <td>1</td>\n      <td>2</td>\n    </tr>\n    <tr>\n      <th>270</th>\n      <td>1</td>\n      <td>1</td>\n      <td>18.0</td>\n      <td>1</td>\n      <td>0</td>\n      <td>60.0000</td>\n      <td>1</td>\n      <td>1</td>\n    </tr>\n    <tr>\n      <th>202</th>\n      <td>1</td>\n      <td>0</td>\n      <td>36.0</td>\n      <td>0</td>\n      <td>0</td>\n      <td>26.2875</td>\n      <td>4</td>\n      <td>1</td>\n    </tr>\n    <tr>\n      <th>24</th>\n      <td>1</td>\n      <td>1</td>\n      <td>29.0</td>\n      <td>0</td>\n      <td>0</td>\n      <td>221.7792</td>\n      <td>1</td>\n      <td>1</td>\n    </tr>\n  </tbody>\n</table>\n</div>"
          },
          "metadata": {},
          "execution_count": 20
        }
      ]
    },
    {
      "cell_type": "markdown",
      "metadata": {
        "id": "-YFpkW6a4Crs"
      },
      "source": [
        "### Mean Encoding"
      ]
    },
    {
      "cell_type": "code",
      "metadata": {
        "id": "_Xhocn2d4Crs",
        "outputId": "45103048-96b5-4b81-aa66-7ce969b35674",
        "colab": {
          "base_uri": "https://localhost:8080/",
          "height": 195
        }
      },
      "source": [
        "X_train_mean=MeanEncoder().fit(X_train,Y_train).transform(X_train)\n",
        "\n",
        "X_train_mean.head()"
      ],
      "execution_count": 21,
      "outputs": [
        {
          "output_type": "execute_result",
          "data": {
            "text/plain": [
              "     pclass       sex   age  sibsp  parch     fare     cabin  embarked\n",
              "206       1  0.420000  44.0      2      0   90.000  0.553571  0.500000\n",
              "10        1  0.420000  47.0      1      0  227.525  0.553571  0.730769\n",
              "275       1  0.920455  40.0      1      1  134.500  0.714286  0.730769\n",
              "65        1  0.920455  33.0      1      0   53.100  0.714286  0.601852\n",
              "252       1  0.420000  61.0      1      3  262.375  0.727273  0.730769"
            ],
            "text/html": "<div>\n<style scoped>\n    .dataframe tbody tr th:only-of-type {\n        vertical-align: middle;\n    }\n\n    .dataframe tbody tr th {\n        vertical-align: top;\n    }\n\n    .dataframe thead th {\n        text-align: right;\n    }\n</style>\n<table border=\"1\" class=\"dataframe\">\n  <thead>\n    <tr style=\"text-align: right;\">\n      <th></th>\n      <th>pclass</th>\n      <th>sex</th>\n      <th>age</th>\n      <th>sibsp</th>\n      <th>parch</th>\n      <th>fare</th>\n      <th>cabin</th>\n      <th>embarked</th>\n    </tr>\n  </thead>\n  <tbody>\n    <tr>\n      <th>206</th>\n      <td>1</td>\n      <td>0.420000</td>\n      <td>44.0</td>\n      <td>2</td>\n      <td>0</td>\n      <td>90.000</td>\n      <td>0.553571</td>\n      <td>0.500000</td>\n    </tr>\n    <tr>\n      <th>10</th>\n      <td>1</td>\n      <td>0.420000</td>\n      <td>47.0</td>\n      <td>1</td>\n      <td>0</td>\n      <td>227.525</td>\n      <td>0.553571</td>\n      <td>0.730769</td>\n    </tr>\n    <tr>\n      <th>275</th>\n      <td>1</td>\n      <td>0.920455</td>\n      <td>40.0</td>\n      <td>1</td>\n      <td>1</td>\n      <td>134.500</td>\n      <td>0.714286</td>\n      <td>0.730769</td>\n    </tr>\n    <tr>\n      <th>65</th>\n      <td>1</td>\n      <td>0.920455</td>\n      <td>33.0</td>\n      <td>1</td>\n      <td>0</td>\n      <td>53.100</td>\n      <td>0.714286</td>\n      <td>0.601852</td>\n    </tr>\n    <tr>\n      <th>252</th>\n      <td>1</td>\n      <td>0.420000</td>\n      <td>61.0</td>\n      <td>1</td>\n      <td>3</td>\n      <td>262.375</td>\n      <td>0.727273</td>\n      <td>0.730769</td>\n    </tr>\n  </tbody>\n</table>\n</div>"
          },
          "metadata": {},
          "execution_count": 21
        }
      ]
    },
    {
      "cell_type": "code",
      "metadata": {
        "id": "KdMmQ12HRM_O",
        "outputId": "7b84c938-e948-416b-86a8-78cfc84b225b",
        "colab": {
          "base_uri": "https://localhost:8080/",
          "height": 195
        }
      },
      "source": [
        "X_test_mean=MeanEncoder().fit(X_train,Y_train).transform(X_test)\n",
        "\n",
        "X_test_mean.head()"
      ],
      "execution_count": 22,
      "outputs": [
        {
          "output_type": "execute_result",
          "data": {
            "text/plain": [
              "     pclass       sex   age  sibsp  parch      fare     cabin  embarked\n",
              "165       1  0.420000  38.0      1      0   90.0000  0.553571  0.601852\n",
              "103       1  0.920455  38.0      0      0  227.5250  0.553571  0.730769\n",
              "270       1  0.920455  18.0      1      0   60.0000  0.553571  0.601852\n",
              "202       1  0.420000  36.0      0      0   26.2875  0.714286  0.601852\n",
              "24        1  0.920455  29.0      0      0  221.7792  0.553571  0.601852"
            ],
            "text/html": "<div>\n<style scoped>\n    .dataframe tbody tr th:only-of-type {\n        vertical-align: middle;\n    }\n\n    .dataframe tbody tr th {\n        vertical-align: top;\n    }\n\n    .dataframe thead th {\n        text-align: right;\n    }\n</style>\n<table border=\"1\" class=\"dataframe\">\n  <thead>\n    <tr style=\"text-align: right;\">\n      <th></th>\n      <th>pclass</th>\n      <th>sex</th>\n      <th>age</th>\n      <th>sibsp</th>\n      <th>parch</th>\n      <th>fare</th>\n      <th>cabin</th>\n      <th>embarked</th>\n    </tr>\n  </thead>\n  <tbody>\n    <tr>\n      <th>165</th>\n      <td>1</td>\n      <td>0.420000</td>\n      <td>38.0</td>\n      <td>1</td>\n      <td>0</td>\n      <td>90.0000</td>\n      <td>0.553571</td>\n      <td>0.601852</td>\n    </tr>\n    <tr>\n      <th>103</th>\n      <td>1</td>\n      <td>0.920455</td>\n      <td>38.0</td>\n      <td>0</td>\n      <td>0</td>\n      <td>227.5250</td>\n      <td>0.553571</td>\n      <td>0.730769</td>\n    </tr>\n    <tr>\n      <th>270</th>\n      <td>1</td>\n      <td>0.920455</td>\n      <td>18.0</td>\n      <td>1</td>\n      <td>0</td>\n      <td>60.0000</td>\n      <td>0.553571</td>\n      <td>0.601852</td>\n    </tr>\n    <tr>\n      <th>202</th>\n      <td>1</td>\n      <td>0.420000</td>\n      <td>36.0</td>\n      <td>0</td>\n      <td>0</td>\n      <td>26.2875</td>\n      <td>0.714286</td>\n      <td>0.601852</td>\n    </tr>\n    <tr>\n      <th>24</th>\n      <td>1</td>\n      <td>0.920455</td>\n      <td>29.0</td>\n      <td>0</td>\n      <td>0</td>\n      <td>221.7792</td>\n      <td>0.553571</td>\n      <td>0.601852</td>\n    </tr>\n  </tbody>\n</table>\n</div>"
          },
          "metadata": {},
          "execution_count": 22
        }
      ]
    },
    {
      "cell_type": "markdown",
      "metadata": {
        "id": "GTDcHbXf4Crt"
      },
      "source": [
        "### Probability Ratio"
      ]
    },
    {
      "cell_type": "code",
      "metadata": {
        "id": "k9RHftUp4Crt",
        "outputId": "125bfb25-dce1-4bb8-931e-a5514ee432c7",
        "colab": {
          "base_uri": "https://localhost:8080/",
          "height": 195
        }
      },
      "source": [
        "X_train_ratio=PRatioEncoder(encoding_method='ratio').fit(X_train,Y_train['survived']).transform(X_train)\n",
        "X_test_ratio=PRatioEncoder(encoding_method='ratio').fit(X_train,Y_train['survived']).transform(X_test)\n",
        "X_train_ratio.head()"
      ],
      "execution_count": 23,
      "outputs": [
        {
          "output_type": "execute_result",
          "data": {
            "text/plain": [
              "     pclass        sex   age  sibsp  parch     fare     cabin  embarked\n",
              "206       1   0.724138  44.0      2      0   90.000  1.240000  1.000000\n",
              "10        1   0.724138  47.0      1      0  227.525  1.240000  2.714286\n",
              "275       1  11.571429  40.0      1      1  134.500  2.500000  2.714286\n",
              "65        1  11.571429  33.0      1      0   53.100  2.500000  1.511628\n",
              "252       1   0.724138  61.0      1      3  262.375  2.666667  2.714286"
            ],
            "text/html": "<div>\n<style scoped>\n    .dataframe tbody tr th:only-of-type {\n        vertical-align: middle;\n    }\n\n    .dataframe tbody tr th {\n        vertical-align: top;\n    }\n\n    .dataframe thead th {\n        text-align: right;\n    }\n</style>\n<table border=\"1\" class=\"dataframe\">\n  <thead>\n    <tr style=\"text-align: right;\">\n      <th></th>\n      <th>pclass</th>\n      <th>sex</th>\n      <th>age</th>\n      <th>sibsp</th>\n      <th>parch</th>\n      <th>fare</th>\n      <th>cabin</th>\n      <th>embarked</th>\n    </tr>\n  </thead>\n  <tbody>\n    <tr>\n      <th>206</th>\n      <td>1</td>\n      <td>0.724138</td>\n      <td>44.0</td>\n      <td>2</td>\n      <td>0</td>\n      <td>90.000</td>\n      <td>1.240000</td>\n      <td>1.000000</td>\n    </tr>\n    <tr>\n      <th>10</th>\n      <td>1</td>\n      <td>0.724138</td>\n      <td>47.0</td>\n      <td>1</td>\n      <td>0</td>\n      <td>227.525</td>\n      <td>1.240000</td>\n      <td>2.714286</td>\n    </tr>\n    <tr>\n      <th>275</th>\n      <td>1</td>\n      <td>11.571429</td>\n      <td>40.0</td>\n      <td>1</td>\n      <td>1</td>\n      <td>134.500</td>\n      <td>2.500000</td>\n      <td>2.714286</td>\n    </tr>\n    <tr>\n      <th>65</th>\n      <td>1</td>\n      <td>11.571429</td>\n      <td>33.0</td>\n      <td>1</td>\n      <td>0</td>\n      <td>53.100</td>\n      <td>2.500000</td>\n      <td>1.511628</td>\n    </tr>\n    <tr>\n      <th>252</th>\n      <td>1</td>\n      <td>0.724138</td>\n      <td>61.0</td>\n      <td>1</td>\n      <td>3</td>\n      <td>262.375</td>\n      <td>2.666667</td>\n      <td>2.714286</td>\n    </tr>\n  </tbody>\n</table>\n</div>"
          },
          "metadata": {},
          "execution_count": 23
        }
      ]
    },
    {
      "cell_type": "markdown",
      "metadata": {
        "id": "R0kWr4qW4Crt"
      },
      "source": [
        "### Random Forest Performance"
      ]
    },
    {
      "cell_type": "code",
      "metadata": {
        "id": "RyXGdBLD4Cru"
      },
      "source": [
        "# create a function to build random forests (n_estimators=50, random_state=39, max_depth=3) and compare performance in train and test set\n",
        "def run_randomForests(X_train,X_test,Y_train,Y_test):\n",
        "    rfc = RandomForestClassifier(n_estimators=50, random_state=39, max_depth=3)\n",
        "    rfc.fit(X_train,Y_train['survived'])\n",
        "    print(\"Train set\")\n",
        "    print(\"Random Forests roc-auc:\",roc_auc_score(Y_train,rfc.predict(X_train)))\n",
        "    print(\"Test set\")\n",
        "    print(\"Random Forests roc-auc:\",roc_auc_score(Y_test,rfc.predict(X_test)))\n"
      ],
      "execution_count": 24,
      "outputs": []
    },
    {
      "cell_type": "code",
      "metadata": {
        "id": "yHQf4x3APJEM",
        "outputId": "56f9d19b-9152-427f-967b-49279163f120",
        "colab": {
          "base_uri": "https://localhost:8080/",
          "height": 422
        }
      },
      "source": [
        "X_train_OHE"
      ],
      "execution_count": 25,
      "outputs": [
        {
          "output_type": "execute_result",
          "data": {
            "text/plain": [
              "     pclass   age  sibsp  parch      fare  sex_male  sex_female  cabin_C  \\\n",
              "206       1  44.0      2      0   90.0000         1           0        1   \n",
              "10        1  47.0      1      0  227.5250         1           0        1   \n",
              "275       1  40.0      1      1  134.5000         0           1        0   \n",
              "65        1  33.0      1      0   53.1000         0           1        0   \n",
              "252       1  61.0      1      3  262.3750         1           0        0   \n",
              "..      ...   ...    ...    ...       ...       ...         ...      ...   \n",
              "178       1  45.0      1      0   52.5542         0           1        0   \n",
              "26        1  25.0      1      0   91.0792         1           0        0   \n",
              "135       1  71.0      0      0   34.6542         1           0        0   \n",
              "286       1  63.0      1      0  221.7792         0           1        1   \n",
              "109       1  36.0      0      0   26.3875         1           0        0   \n",
              "\n",
              "     cabin_E  cabin_B  cabin_D  cabin_F  cabin_A  cabin_G  embarked_Q  \\\n",
              "206        0        0        0        0        0        0           1   \n",
              "10         0        0        0        0        0        0           0   \n",
              "275        1        0        0        0        0        0           0   \n",
              "65         1        0        0        0        0        0           0   \n",
              "252        0        1        0        0        0        0           0   \n",
              "..       ...      ...      ...      ...      ...      ...         ...   \n",
              "178        0        0        1        0        0        0           0   \n",
              "26         0        1        0        0        0        0           0   \n",
              "135        0        0        0        0        1        0           0   \n",
              "286        0        0        0        0        0        0           0   \n",
              "109        1        0        0        0        0        0           0   \n",
              "\n",
              "     embarked_C  embarked_S  \n",
              "206           0           0  \n",
              "10            1           0  \n",
              "275           1           0  \n",
              "65            0           1  \n",
              "252           1           0  \n",
              "..          ...         ...  \n",
              "178           0           1  \n",
              "26            1           0  \n",
              "135           1           0  \n",
              "286           0           1  \n",
              "109           0           1  \n",
              "\n",
              "[188 rows x 17 columns]"
            ],
            "text/html": "<div>\n<style scoped>\n    .dataframe tbody tr th:only-of-type {\n        vertical-align: middle;\n    }\n\n    .dataframe tbody tr th {\n        vertical-align: top;\n    }\n\n    .dataframe thead th {\n        text-align: right;\n    }\n</style>\n<table border=\"1\" class=\"dataframe\">\n  <thead>\n    <tr style=\"text-align: right;\">\n      <th></th>\n      <th>pclass</th>\n      <th>age</th>\n      <th>sibsp</th>\n      <th>parch</th>\n      <th>fare</th>\n      <th>sex_male</th>\n      <th>sex_female</th>\n      <th>cabin_C</th>\n      <th>cabin_E</th>\n      <th>cabin_B</th>\n      <th>cabin_D</th>\n      <th>cabin_F</th>\n      <th>cabin_A</th>\n      <th>cabin_G</th>\n      <th>embarked_Q</th>\n      <th>embarked_C</th>\n      <th>embarked_S</th>\n    </tr>\n  </thead>\n  <tbody>\n    <tr>\n      <th>206</th>\n      <td>1</td>\n      <td>44.0</td>\n      <td>2</td>\n      <td>0</td>\n      <td>90.0000</td>\n      <td>1</td>\n      <td>0</td>\n      <td>1</td>\n      <td>0</td>\n      <td>0</td>\n      <td>0</td>\n      <td>0</td>\n      <td>0</td>\n      <td>0</td>\n      <td>1</td>\n      <td>0</td>\n      <td>0</td>\n    </tr>\n    <tr>\n      <th>10</th>\n      <td>1</td>\n      <td>47.0</td>\n      <td>1</td>\n      <td>0</td>\n      <td>227.5250</td>\n      <td>1</td>\n      <td>0</td>\n      <td>1</td>\n      <td>0</td>\n      <td>0</td>\n      <td>0</td>\n      <td>0</td>\n      <td>0</td>\n      <td>0</td>\n      <td>0</td>\n      <td>1</td>\n      <td>0</td>\n    </tr>\n    <tr>\n      <th>275</th>\n      <td>1</td>\n      <td>40.0</td>\n      <td>1</td>\n      <td>1</td>\n      <td>134.5000</td>\n      <td>0</td>\n      <td>1</td>\n      <td>0</td>\n      <td>1</td>\n      <td>0</td>\n      <td>0</td>\n      <td>0</td>\n      <td>0</td>\n      <td>0</td>\n      <td>0</td>\n      <td>1</td>\n      <td>0</td>\n    </tr>\n    <tr>\n      <th>65</th>\n      <td>1</td>\n      <td>33.0</td>\n      <td>1</td>\n      <td>0</td>\n      <td>53.1000</td>\n      <td>0</td>\n      <td>1</td>\n      <td>0</td>\n      <td>1</td>\n      <td>0</td>\n      <td>0</td>\n      <td>0</td>\n      <td>0</td>\n      <td>0</td>\n      <td>0</td>\n      <td>0</td>\n      <td>1</td>\n    </tr>\n    <tr>\n      <th>252</th>\n      <td>1</td>\n      <td>61.0</td>\n      <td>1</td>\n      <td>3</td>\n      <td>262.3750</td>\n      <td>1</td>\n      <td>0</td>\n      <td>0</td>\n      <td>0</td>\n      <td>1</td>\n      <td>0</td>\n      <td>0</td>\n      <td>0</td>\n      <td>0</td>\n      <td>0</td>\n      <td>1</td>\n      <td>0</td>\n    </tr>\n    <tr>\n      <th>...</th>\n      <td>...</td>\n      <td>...</td>\n      <td>...</td>\n      <td>...</td>\n      <td>...</td>\n      <td>...</td>\n      <td>...</td>\n      <td>...</td>\n      <td>...</td>\n      <td>...</td>\n      <td>...</td>\n      <td>...</td>\n      <td>...</td>\n      <td>...</td>\n      <td>...</td>\n      <td>...</td>\n      <td>...</td>\n    </tr>\n    <tr>\n      <th>178</th>\n      <td>1</td>\n      <td>45.0</td>\n      <td>1</td>\n      <td>0</td>\n      <td>52.5542</td>\n      <td>0</td>\n      <td>1</td>\n      <td>0</td>\n      <td>0</td>\n      <td>0</td>\n      <td>1</td>\n      <td>0</td>\n      <td>0</td>\n      <td>0</td>\n      <td>0</td>\n      <td>0</td>\n      <td>1</td>\n    </tr>\n    <tr>\n      <th>26</th>\n      <td>1</td>\n      <td>25.0</td>\n      <td>1</td>\n      <td>0</td>\n      <td>91.0792</td>\n      <td>1</td>\n      <td>0</td>\n      <td>0</td>\n      <td>0</td>\n      <td>1</td>\n      <td>0</td>\n      <td>0</td>\n      <td>0</td>\n      <td>0</td>\n      <td>0</td>\n      <td>1</td>\n      <td>0</td>\n    </tr>\n    <tr>\n      <th>135</th>\n      <td>1</td>\n      <td>71.0</td>\n      <td>0</td>\n      <td>0</td>\n      <td>34.6542</td>\n      <td>1</td>\n      <td>0</td>\n      <td>0</td>\n      <td>0</td>\n      <td>0</td>\n      <td>0</td>\n      <td>0</td>\n      <td>1</td>\n      <td>0</td>\n      <td>0</td>\n      <td>1</td>\n      <td>0</td>\n    </tr>\n    <tr>\n      <th>286</th>\n      <td>1</td>\n      <td>63.0</td>\n      <td>1</td>\n      <td>0</td>\n      <td>221.7792</td>\n      <td>0</td>\n      <td>1</td>\n      <td>1</td>\n      <td>0</td>\n      <td>0</td>\n      <td>0</td>\n      <td>0</td>\n      <td>0</td>\n      <td>0</td>\n      <td>0</td>\n      <td>0</td>\n      <td>1</td>\n    </tr>\n    <tr>\n      <th>109</th>\n      <td>1</td>\n      <td>36.0</td>\n      <td>0</td>\n      <td>0</td>\n      <td>26.3875</td>\n      <td>1</td>\n      <td>0</td>\n      <td>0</td>\n      <td>1</td>\n      <td>0</td>\n      <td>0</td>\n      <td>0</td>\n      <td>0</td>\n      <td>0</td>\n      <td>0</td>\n      <td>0</td>\n      <td>1</td>\n    </tr>\n  </tbody>\n</table>\n<p>188 rows × 17 columns</p>\n</div>"
          },
          "metadata": {},
          "execution_count": 25
        }
      ]
    },
    {
      "cell_type": "code",
      "metadata": {
        "id": "rGiSGa1G4Cru",
        "outputId": "98bc3c5f-4be4-4532-a701-7c2bdde34cb6",
        "colab": {
          "base_uri": "https://localhost:8080/"
        }
      },
      "source": [
        "# OHE\n",
        "run_randomForests(X_train_OHE, X_test_OHE, Y_train, Y_test)"
      ],
      "execution_count": 26,
      "outputs": [
        {
          "output_type": "stream",
          "name": "stdout",
          "text": [
            "Train set\nRandom Forests roc-auc: 0.8259537210756722\nTest set\nRandom Forests roc-auc: 0.7456140350877194\n"
          ]
        }
      ]
    },
    {
      "cell_type": "code",
      "metadata": {
        "id": "Cn_kt92E4Cru",
        "outputId": "e53ef52e-9e2c-43c2-a553-e42550eec145",
        "colab": {
          "base_uri": "https://localhost:8080/"
        }
      },
      "source": [
        "# counts\n",
        "run_randomForests(X_train_count, X_test_count, Y_train, Y_test)"
      ],
      "execution_count": 27,
      "outputs": [
        {
          "output_type": "stream",
          "name": "stdout",
          "text": [
            "Train set\nRandom Forests roc-auc: 0.7779237023139463\nTest set\nRandom Forests roc-auc: 0.7302631578947367\n"
          ]
        }
      ]
    },
    {
      "cell_type": "code",
      "metadata": {
        "id": "_cgQ2V_n4Crv",
        "outputId": "e1c2bd6c-8da4-4488-c184-d032ff968488",
        "colab": {
          "base_uri": "https://localhost:8080/"
        }
      },
      "source": [
        "# ordered labels\n",
        "run_randomForests(X_train_ordered, X_test_ordered, Y_train, Y_test)"
      ],
      "execution_count": 28,
      "outputs": [
        {
          "output_type": "stream",
          "name": "stdout",
          "text": [
            "Train set\nRandom Forests roc-auc: 0.7851782363977485\nTest set\nRandom Forests roc-auc: 0.6798245614035088\n"
          ]
        }
      ]
    },
    {
      "cell_type": "code",
      "metadata": {
        "id": "qjJBkpjf4Crv",
        "outputId": "2cf265e9-aacc-40d6-ca05-99cce7aa1892",
        "colab": {
          "base_uri": "https://localhost:8080/"
        }
      },
      "source": [
        "# mean encoding\n",
        "run_randomForests(X_train_mean, X_test_mean, Y_train, Y_test)"
      ],
      "execution_count": 29,
      "outputs": [
        {
          "output_type": "stream",
          "name": "stdout",
          "text": [
            "Train set\nRandom Forests roc-auc: 0.7851782363977485\nTest set\nRandom Forests roc-auc: 0.6798245614035088\n"
          ]
        }
      ]
    },
    {
      "cell_type": "code",
      "metadata": {
        "id": "oPYMXD8C4Crw",
        "outputId": "98c78f4d-0a17-434e-a1b4-20e4a1d86a47",
        "colab": {
          "base_uri": "https://localhost:8080/"
        }
      },
      "source": [
        "# ratio\n",
        "run_randomForests(X_train_ratio, X_test_ratio, Y_train, Y_test)"
      ],
      "execution_count": 30,
      "outputs": [
        {
          "output_type": "stream",
          "name": "stdout",
          "text": [
            "Train set\nRandom Forests roc-auc: 0.7851782363977485\nTest set\nRandom Forests roc-auc: 0.6798245614035088\n"
          ]
        }
      ]
    },
    {
      "cell_type": "markdown",
      "metadata": {
        "id": "pYe27rzL4Crw"
      },
      "source": [
        "Comparing the roc_auc values on the test sets, we can see that one hot encoding has the worse performance. This makes sense because trees do not perform well in datasets with big feature spaces.\n",
        "\n",
        "The remaining encodings returned similar performances. This also makes sense, because trees are non-linear models, so target guided encodings may not necessarily improve the model performance\n",
        "\n",
        "### Logistic Regression Performance"
      ]
    },
    {
      "cell_type": "code",
      "metadata": {
        "id": "6JCdvdf44Crw"
      },
      "source": [
        "# create a function for Logistic Regression\n",
        "def run_logistic(X_train,X_test,Y_train,Y_test):\n",
        "    rfc = LogisticRegression()\n",
        "    rfc.fit(X_train,Y_train['survived'])\n",
        "    print(\"Train set\")\n",
        "    print(\"Logistic Regression roc-auc:\",roc_auc_score(Y_train,rfc.predict(X_train)))\n",
        "    print(\"Test set\")\n",
        "    print(\"Logistic Regression roc-auc:\",roc_auc_score(Y_test,rfc.predict(X_test)))\n"
      ],
      "execution_count": 37,
      "outputs": []
    },
    {
      "cell_type": "code",
      "metadata": {
        "id": "FkShwKkV4Crx",
        "outputId": "178680d0-0408-49c3-cede-09a852e5f60e",
        "colab": {
          "base_uri": "https://localhost:8080/"
        }
      },
      "source": [
        "# OHE\n",
        "run_logistic(X_train_OHE, X_test_OHE, Y_train, Y_test)"
      ],
      "execution_count": 38,
      "outputs": [
        {
          "output_type": "stream",
          "name": "stdout",
          "text": [
            "Train set\n",
            "Logistic Regression roc-auc: 0.7956222639149468\n",
            "Test set\n",
            "Logistic Regression roc-auc: 0.7664473684210525\n",
            "C:\\Users\\shubh\\AppData\\Local\\Programs\\Python\\Python39\\lib\\site-packages\\sklearn\\linear_model\\_logistic.py:763: ConvergenceWarning: lbfgs failed to converge (status=1):\n",
            "STOP: TOTAL NO. of ITERATIONS REACHED LIMIT.\n",
            "\n",
            "Increase the number of iterations (max_iter) or scale the data as shown in:\n",
            "    https://scikit-learn.org/stable/modules/preprocessing.html\n",
            "Please also refer to the documentation for alternative solver options:\n",
            "    https://scikit-learn.org/stable/modules/linear_model.html#logistic-regression\n",
            "  n_iter_i = _check_optimize_result(\n"
          ]
        }
      ]
    },
    {
      "cell_type": "code",
      "metadata": {
        "id": "wGzavAoH4Crx",
        "outputId": "3768a22d-40b6-443e-9257-d78d456d12b0",
        "colab": {
          "base_uri": "https://localhost:8080/"
        }
      },
      "source": [
        "# counts\n",
        "run_logistic(X_train_count, X_test_count, Y_train, Y_test)"
      ],
      "execution_count": 39,
      "outputs": [
        {
          "output_type": "stream",
          "name": "stdout",
          "text": [
            "Train set\n",
            "Logistic Regression roc-auc: 0.7114446529080675\n",
            "Test set\n",
            "Logistic Regression roc-auc: 0.7631578947368421\n",
            "C:\\Users\\shubh\\AppData\\Local\\Programs\\Python\\Python39\\lib\\site-packages\\sklearn\\linear_model\\_logistic.py:763: ConvergenceWarning: lbfgs failed to converge (status=1):\n",
            "STOP: TOTAL NO. of ITERATIONS REACHED LIMIT.\n",
            "\n",
            "Increase the number of iterations (max_iter) or scale the data as shown in:\n",
            "    https://scikit-learn.org/stable/modules/preprocessing.html\n",
            "Please also refer to the documentation for alternative solver options:\n",
            "    https://scikit-learn.org/stable/modules/linear_model.html#logistic-regression\n",
            "  n_iter_i = _check_optimize_result(\n"
          ]
        }
      ]
    },
    {
      "cell_type": "code",
      "metadata": {
        "id": "_v3oWBCE4Crx",
        "outputId": "1262799a-9368-40df-94cd-11e6f3dd8d16",
        "colab": {
          "base_uri": "https://localhost:8080/"
        }
      },
      "source": [
        "# ordered labels\n",
        "run_logistic(X_train_ordered, X_test_ordered, Y_train, Y_test)"
      ],
      "execution_count": 40,
      "outputs": [
        {
          "output_type": "stream",
          "name": "stdout",
          "text": [
            "Train set\n",
            "Logistic Regression roc-auc: 0.7766103814884302\n",
            "Test set\n",
            "Logistic Regression roc-auc: 0.736842105263158\n",
            "C:\\Users\\shubh\\AppData\\Local\\Programs\\Python\\Python39\\lib\\site-packages\\sklearn\\linear_model\\_logistic.py:763: ConvergenceWarning: lbfgs failed to converge (status=1):\n",
            "STOP: TOTAL NO. of ITERATIONS REACHED LIMIT.\n",
            "\n",
            "Increase the number of iterations (max_iter) or scale the data as shown in:\n",
            "    https://scikit-learn.org/stable/modules/preprocessing.html\n",
            "Please also refer to the documentation for alternative solver options:\n",
            "    https://scikit-learn.org/stable/modules/linear_model.html#logistic-regression\n",
            "  n_iter_i = _check_optimize_result(\n"
          ]
        }
      ]
    },
    {
      "cell_type": "code",
      "metadata": {
        "id": "Fn3JN8Xu4Cry",
        "outputId": "73befbbb-7f33-499a-c73f-8bc0d9cab898",
        "colab": {
          "base_uri": "https://localhost:8080/"
        }
      },
      "source": [
        "# mean encoding\n",
        "run_logistic(X_train_mean, X_test_mean, Y_train, Y_test)"
      ],
      "execution_count": 41,
      "outputs": [
        {
          "output_type": "stream",
          "name": "stdout",
          "text": [
            "Train set\n",
            "Logistic Regression roc-auc: 0.7118824265165729\n",
            "Test set\n",
            "Logistic Regression roc-auc: 0.7478070175438595\n",
            "C:\\Users\\shubh\\AppData\\Local\\Programs\\Python\\Python39\\lib\\site-packages\\sklearn\\linear_model\\_logistic.py:763: ConvergenceWarning: lbfgs failed to converge (status=1):\n",
            "STOP: TOTAL NO. of ITERATIONS REACHED LIMIT.\n",
            "\n",
            "Increase the number of iterations (max_iter) or scale the data as shown in:\n",
            "    https://scikit-learn.org/stable/modules/preprocessing.html\n",
            "Please also refer to the documentation for alternative solver options:\n",
            "    https://scikit-learn.org/stable/modules/linear_model.html#logistic-regression\n",
            "  n_iter_i = _check_optimize_result(\n"
          ]
        }
      ]
    },
    {
      "cell_type": "code",
      "metadata": {
        "id": "n2AknLHn4Cry",
        "outputId": "67863a39-6ec6-4f2d-a9ec-8f62d33d00f1",
        "colab": {
          "base_uri": "https://localhost:8080/"
        }
      },
      "source": [
        "# ratio\n",
        "run_logistic(X_train_ratio, X_test_ratio, Y_train, Y_test)"
      ],
      "execution_count": 42,
      "outputs": [
        {
          "output_type": "stream",
          "name": "stdout",
          "text": [
            "Train set\n",
            "Logistic Regression roc-auc: 0.7874921826141339\n",
            "Test set\n",
            "Logistic Regression roc-auc: 0.7576754385964911\n",
            "C:\\Users\\shubh\\AppData\\Local\\Programs\\Python\\Python39\\lib\\site-packages\\sklearn\\linear_model\\_logistic.py:763: ConvergenceWarning: lbfgs failed to converge (status=1):\n",
            "STOP: TOTAL NO. of ITERATIONS REACHED LIMIT.\n",
            "\n",
            "Increase the number of iterations (max_iter) or scale the data as shown in:\n",
            "    https://scikit-learn.org/stable/modules/preprocessing.html\n",
            "Please also refer to the documentation for alternative solver options:\n",
            "    https://scikit-learn.org/stable/modules/linear_model.html#logistic-regression\n",
            "  n_iter_i = _check_optimize_result(\n"
          ]
        }
      ]
    },
    {
      "cell_type": "markdown",
      "metadata": {
        "id": "ri2g-wTX4Cry"
      },
      "source": [
        "For Logistic regression, the best performances are obtained with one hot encoding, as it preserves linear relationships with variables and target, and also with weight of evidence, and ordered encoding.\n",
        "\n",
        "Note however how count encoding, returns the worse performance as it does not create a monotonic relationship between variables and target, and in this case, mean target encoding is probably causing over-fitting."
      ]
    }
  ]
}