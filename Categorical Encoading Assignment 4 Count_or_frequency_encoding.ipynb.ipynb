{
  "nbformat": 4,
  "nbformat_minor": 0,
  "metadata": {
    "kernelspec": {
      "name": "python393jvsc74a57bd0071a5d89032fd3808cb27563172e896b82f0c2cbf3a41e9bb8348c094bc0a7ac",
      "display_name": "Python 3.9.3 64-bit"
    },
    "language_info": {
      "codemirror_mode": {
        "name": "ipython",
        "version": 3
      },
      "file_extension": ".py",
      "mimetype": "text/x-python",
      "name": "python",
      "nbconvert_exporter": "python",
      "pygments_lexer": "ipython3",
      "version": "3.9.3"
    },
    "toc": {
      "base_numbering": 1,
      "nav_menu": {},
      "number_sections": true,
      "sideBar": true,
      "skip_h1_title": false,
      "title_cell": "Table of Contents",
      "title_sidebar": "Contents",
      "toc_cell": false,
      "toc_position": {},
      "toc_section_display": "block",
      "toc_window_display": true
    },
    "colab": {
      "name": "Assignment 4 Categorical Encoading - Count_or_frequency_encoding_Sagnik_Mitra_2027.ipynb",
      "provenance": [],
      "collapsed_sections": []
    },
    "metadata": {
      "interpreter": {
        "hash": "071a5d89032fd3808cb27563172e896b82f0c2cbf3a41e9bb8348c094bc0a7ac"
      }
    }
  },
  "cells": [
    {
      "cell_type": "code",
      "execution_count": 1,
      "metadata": {},
      "outputs": [],
      "source": [
        "#Shubham Tribedi | 1811100002037"
      ]
    },
    {
      "cell_type": "markdown",
      "metadata": {
        "id": "9-YRI-iig6KV"
      },
      "source": [
        "## Count or frequency encoding\n",
        "\n",
        "In count encoding we replace the categories by the count of the observations that show that category in the dataset. Similarly, we can replace the category by the frequency -or percentage- of observations in the dataset. That is, if 10 of our 100 observations show the colour blue, we would replace blue by 10 if doing count encoding, or by 0.1 if replacing by the frequency. These techniques capture the representation of each label in a dataset, but the encoding may not necessarily be predictive of the outcome. These are however, very popular encoding methods in Kaggle competitions.\n",
        "\n",
        "The assumption of this technique is that the number observations shown by each variable is somewhat informative of the predictive power of the category.\n",
        "\n",
        "\n",
        "### Advantages\n",
        "\n",
        "- Simple\n",
        "- Does not expand the feature space\n",
        "\n",
        "### Disadvantages\n",
        "\n",
        "- If 2 different categories appear the same amount of times in the dataset, that is, they appear in the same number of observations, they will be replaced by the same number: may lose valuable information.\n",
        "\n",
        "For example, if there are 10 observations for the category blue and 10 observations for the category red, both will be replaced by 10, and therefore, after the encoding, will appear to be the same thing. \n",
        "\n",
        "\n",
        "Follow this [thread in Kaggle](https://www.kaggle.com/general/16927) for more information.\n",
        "\n",
        "\n",
        "\n",
        "## In this assignment:\n",
        "\n",
        "You have to perform count or frequency encoding with:\n",
        "- pandas\n",
        "- Feature-Engine\n",
        "\n",
        "And the advantages and limitations of each implementation using the House Prices dataset."
      ]
    },
    {
      "cell_type": "code",
      "metadata": {
        "id": "1xNIBF4dg6Kb"
      },
      "source": [
        "import numpy as np\n",
        "import pandas as pd\n",
        "\n",
        "# to split the datasets\n",
        "from sklearn.model_selection import train_test_split\n",
        "\n",
        "# to encode with feature-engine\n",
        "from feature_engine.encoding import CountFrequencyEncoder"
      ],
      "execution_count": 3,
      "outputs": []
    },
    {
      "cell_type": "code",
      "metadata": {
        "id": "P_H1NhEqg6Kc",
        "colab": {
          "base_uri": "https://localhost:8080/",
          "height": 198
        },
        "outputId": "c5689dda-c6bb-4c5e-b9ab-7c31441bc99c"
      },
      "source": [
        "# load dataset\n",
        "\n",
        "data = pd.read_csv('houseprice.csv',usecols=['Neighborhood', 'Exterior1st', 'Exterior2nd', 'SalePrice'])\n",
        "\n",
        "data.head()"
      ],
      "execution_count": 4,
      "outputs": [
        {
          "output_type": "execute_result",
          "data": {
            "text/plain": [
              "  Neighborhood Exterior1st Exterior2nd  SalePrice\n",
              "0      CollgCr     VinylSd     VinylSd     208500\n",
              "1      Veenker     MetalSd     MetalSd     181500\n",
              "2      CollgCr     VinylSd     VinylSd     223500\n",
              "3      Crawfor     Wd Sdng     Wd Shng     140000\n",
              "4      NoRidge     VinylSd     VinylSd     250000"
            ],
            "text/html": "<div>\n<style scoped>\n    .dataframe tbody tr th:only-of-type {\n        vertical-align: middle;\n    }\n\n    .dataframe tbody tr th {\n        vertical-align: top;\n    }\n\n    .dataframe thead th {\n        text-align: right;\n    }\n</style>\n<table border=\"1\" class=\"dataframe\">\n  <thead>\n    <tr style=\"text-align: right;\">\n      <th></th>\n      <th>Neighborhood</th>\n      <th>Exterior1st</th>\n      <th>Exterior2nd</th>\n      <th>SalePrice</th>\n    </tr>\n  </thead>\n  <tbody>\n    <tr>\n      <th>0</th>\n      <td>CollgCr</td>\n      <td>VinylSd</td>\n      <td>VinylSd</td>\n      <td>208500</td>\n    </tr>\n    <tr>\n      <th>1</th>\n      <td>Veenker</td>\n      <td>MetalSd</td>\n      <td>MetalSd</td>\n      <td>181500</td>\n    </tr>\n    <tr>\n      <th>2</th>\n      <td>CollgCr</td>\n      <td>VinylSd</td>\n      <td>VinylSd</td>\n      <td>223500</td>\n    </tr>\n    <tr>\n      <th>3</th>\n      <td>Crawfor</td>\n      <td>Wd Sdng</td>\n      <td>Wd Shng</td>\n      <td>140000</td>\n    </tr>\n    <tr>\n      <th>4</th>\n      <td>NoRidge</td>\n      <td>VinylSd</td>\n      <td>VinylSd</td>\n      <td>250000</td>\n    </tr>\n  </tbody>\n</table>\n</div>"
          },
          "metadata": {},
          "execution_count": 4
        }
      ]
    },
    {
      "cell_type": "code",
      "metadata": {
        "id": "PAjGpsBNg6Ke",
        "colab": {
          "base_uri": "https://localhost:8080/"
        },
        "outputId": "ade97a0d-c648-48b2-8cff-6d66d721af46"
      },
      "source": [
        "# let's have a look at how many labels each variable has\n",
        "for i in data:\n",
        "    print(i,':',len(data[i].unique()),'labels')"
      ],
      "execution_count": 6,
      "outputs": [
        {
          "output_type": "stream",
          "name": "stdout",
          "text": [
            "Neighborhood : 25 labels\nExterior1st : 15 labels\nExterior2nd : 16 labels\nSalePrice : 663 labels\n"
          ]
        }
      ]
    },
    {
      "cell_type": "markdown",
      "metadata": {
        "id": "U4oyB_EQg6Kf"
      },
      "source": [
        "### Important\n",
        "\n",
        "When doing count transformation of categorical variables, it is important to calculate the count (or frequency = count / total observations) **over the training set**, and then use those numbers to replace the labels in the test set."
      ]
    },
    {
      "cell_type": "code",
      "metadata": {
        "id": "DNIYos8xg6Kg",
        "colab": {
          "base_uri": "https://localhost:8080/"
        },
        "outputId": "eaccab07-2d9c-4d1c-c29d-1ce9e2b7e21e"
      },
      "source": [
        "# let's separate into training and testing set\n",
        "# let's separate into training and testing set\n",
        "X_train,X_test,y_train,y_test=train_test_split(data[['Neighborhood','Exterior1st','Exterior2nd']],data['SalePrice'],test_size=0.3)\n",
        "\n",
        "X_train.shape, X_test.shape"
      ],
      "execution_count": 7,
      "outputs": [
        {
          "output_type": "execute_result",
          "data": {
            "text/plain": [
              "((1022, 3), (438, 3))"
            ]
          },
          "metadata": {},
          "execution_count": 7
        }
      ]
    },
    {
      "cell_type": "markdown",
      "metadata": {
        "id": "uiFo4MDag6Kh"
      },
      "source": [
        "## Count and Frequency encoding with pandas"
      ]
    },
    {
      "cell_type": "code",
      "metadata": {
        "scrolled": true,
        "id": "rlSBxL1Yg6Kh",
        "colab": {
          "base_uri": "https://localhost:8080/"
        },
        "outputId": "a3b9e0ea-d1fc-49fb-861f-3df6b6c8c62b"
      },
      "source": [
        "# let's obtain the counts for each one of the labels\n",
        "# in the variable Neigbourhood\n",
        "X_train.groupby('Neighborhood').size().sort_values(ascending=False)\n",
        "cat_dict = dict(X_train.groupby('Neighborhood').size().sort_values(ascending=False))\n",
        "cat_dict"
      ],
      "execution_count": 8,
      "outputs": [
        {
          "output_type": "execute_result",
          "data": {
            "text/plain": [
              "{'NAmes': 162,\n",
              " 'CollgCr': 114,\n",
              " 'OldTown': 77,\n",
              " 'Edwards': 65,\n",
              " 'Somerst': 61,\n",
              " 'NridgHt': 59,\n",
              " 'Gilbert': 58,\n",
              " 'Sawyer': 55,\n",
              " 'NWAmes': 51,\n",
              " 'SawyerW': 43,\n",
              " 'BrkSide': 37,\n",
              " 'Crawfor': 33,\n",
              " 'NoRidge': 31,\n",
              " 'Mitchel': 28,\n",
              " 'Timber': 25,\n",
              " 'IDOTRR': 23,\n",
              " 'StoneBr': 20,\n",
              " 'ClearCr': 18,\n",
              " 'SWISU': 15,\n",
              " 'BrDale': 12,\n",
              " 'MeadowV': 12,\n",
              " 'Blmngtn': 9,\n",
              " 'Veenker': 7,\n",
              " 'NPkVill': 5,\n",
              " 'Blueste': 2}"
            ]
          },
          "metadata": {},
          "execution_count": 8
        }
      ]
    },
    {
      "cell_type": "markdown",
      "metadata": {
        "id": "KBg-YCWDg6Ki"
      },
      "source": [
        "The dictionary contains the number of observations per category in Neighbourhood."
      ]
    },
    {
      "cell_type": "code",
      "metadata": {
        "id": "kVySqbsvg6Ki"
      },
      "source": [
        "# replace the labels with the counts\n",
        "X_train['Neighborhood']=X_train['Neighborhood'].replace(to_replace=list(cat_dict.keys()),value=list(cat_dict.values()))"
      ],
      "execution_count": 9,
      "outputs": []
    },
    {
      "cell_type": "code",
      "metadata": {
        "id": "5rKrwC6yg6Kj",
        "colab": {
          "base_uri": "https://localhost:8080/"
        },
        "outputId": "e709cc6c-7889-4547-f977-6d5eff38101c"
      },
      "source": [
        "# let's explore the result\n",
        "X_train['Neighborhood'].head(10)"
      ],
      "execution_count": 10,
      "outputs": [
        {
          "output_type": "execute_result",
          "data": {
            "text/plain": [
              "710      37\n",
              "72       58\n",
              "692      25\n",
              "798      59\n",
              "1023      9\n",
              "528      65\n",
              "341      43\n",
              "1207    114\n",
              "891      55\n",
              "337     114\n",
              "Name: Neighborhood, dtype: int64"
            ]
          },
          "metadata": {},
          "execution_count": 10
        }
      ]
    },
    {
      "cell_type": "code",
      "metadata": {
        "colab": {
          "base_uri": "https://localhost:8080/",
          "height": 407
        },
        "id": "HOZECcWPxbDB",
        "outputId": "33777f4b-ce47-45d3-e49c-11a3be0ac821"
      },
      "source": [
        "X_train"
      ],
      "execution_count": 11,
      "outputs": [
        {
          "output_type": "execute_result",
          "data": {
            "text/plain": [
              "      Neighborhood Exterior1st Exterior2nd\n",
              "710             37     VinylSd     VinylSd\n",
              "72              58     VinylSd     VinylSd\n",
              "692             25     MetalSd     MetalSd\n",
              "798             59     VinylSd     VinylSd\n",
              "1023             9     VinylSd     VinylSd\n",
              "...            ...         ...         ...\n",
              "1245            51     VinylSd     VinylSd\n",
              "1187            31     ImStucc     ImStucc\n",
              "1182            31     Wd Sdng     ImStucc\n",
              "587             55     HdBoard     HdBoard\n",
              "787             43     VinylSd     VinylSd\n",
              "\n",
              "[1022 rows x 3 columns]"
            ],
            "text/html": "<div>\n<style scoped>\n    .dataframe tbody tr th:only-of-type {\n        vertical-align: middle;\n    }\n\n    .dataframe tbody tr th {\n        vertical-align: top;\n    }\n\n    .dataframe thead th {\n        text-align: right;\n    }\n</style>\n<table border=\"1\" class=\"dataframe\">\n  <thead>\n    <tr style=\"text-align: right;\">\n      <th></th>\n      <th>Neighborhood</th>\n      <th>Exterior1st</th>\n      <th>Exterior2nd</th>\n    </tr>\n  </thead>\n  <tbody>\n    <tr>\n      <th>710</th>\n      <td>37</td>\n      <td>VinylSd</td>\n      <td>VinylSd</td>\n    </tr>\n    <tr>\n      <th>72</th>\n      <td>58</td>\n      <td>VinylSd</td>\n      <td>VinylSd</td>\n    </tr>\n    <tr>\n      <th>692</th>\n      <td>25</td>\n      <td>MetalSd</td>\n      <td>MetalSd</td>\n    </tr>\n    <tr>\n      <th>798</th>\n      <td>59</td>\n      <td>VinylSd</td>\n      <td>VinylSd</td>\n    </tr>\n    <tr>\n      <th>1023</th>\n      <td>9</td>\n      <td>VinylSd</td>\n      <td>VinylSd</td>\n    </tr>\n    <tr>\n      <th>...</th>\n      <td>...</td>\n      <td>...</td>\n      <td>...</td>\n    </tr>\n    <tr>\n      <th>1245</th>\n      <td>51</td>\n      <td>VinylSd</td>\n      <td>VinylSd</td>\n    </tr>\n    <tr>\n      <th>1187</th>\n      <td>31</td>\n      <td>ImStucc</td>\n      <td>ImStucc</td>\n    </tr>\n    <tr>\n      <th>1182</th>\n      <td>31</td>\n      <td>Wd Sdng</td>\n      <td>ImStucc</td>\n    </tr>\n    <tr>\n      <th>587</th>\n      <td>55</td>\n      <td>HdBoard</td>\n      <td>HdBoard</td>\n    </tr>\n    <tr>\n      <th>787</th>\n      <td>43</td>\n      <td>VinylSd</td>\n      <td>VinylSd</td>\n    </tr>\n  </tbody>\n</table>\n<p>1022 rows × 3 columns</p>\n</div>"
          },
          "metadata": {},
          "execution_count": 11
        }
      ]
    },
    {
      "cell_type": "code",
      "metadata": {
        "id": "lGBFcayqg6Kj",
        "colab": {
          "base_uri": "https://localhost:8080/"
        },
        "outputId": "13db53fb-1520-4675-c562-153950569232"
      },
      "source": [
        "# if instead of the count we would like the frequency\n",
        "# we need only divide the count by the total number of observations:\n",
        "\n",
        "frequency_map3 =  cat_dict\n",
        "\n",
        "for i in frequency_map3.keys():\n",
        "  frequency_map3[i] /= len(data['Neighborhood'])\n",
        "frequency_map3"
      ],
      "execution_count": 12,
      "outputs": [
        {
          "output_type": "execute_result",
          "data": {
            "text/plain": [
              "{'NAmes': 0.11095890410958904,\n",
              " 'CollgCr': 0.07808219178082192,\n",
              " 'OldTown': 0.05273972602739726,\n",
              " 'Edwards': 0.04452054794520548,\n",
              " 'Somerst': 0.04178082191780822,\n",
              " 'NridgHt': 0.04041095890410959,\n",
              " 'Gilbert': 0.03972602739726028,\n",
              " 'Sawyer': 0.03767123287671233,\n",
              " 'NWAmes': 0.03493150684931507,\n",
              " 'SawyerW': 0.02945205479452055,\n",
              " 'BrkSide': 0.025342465753424658,\n",
              " 'Crawfor': 0.022602739726027398,\n",
              " 'NoRidge': 0.021232876712328767,\n",
              " 'Mitchel': 0.019178082191780823,\n",
              " 'Timber': 0.017123287671232876,\n",
              " 'IDOTRR': 0.015753424657534248,\n",
              " 'StoneBr': 0.0136986301369863,\n",
              " 'ClearCr': 0.012328767123287671,\n",
              " 'SWISU': 0.010273972602739725,\n",
              " 'BrDale': 0.00821917808219178,\n",
              " 'MeadowV': 0.00821917808219178,\n",
              " 'Blmngtn': 0.0061643835616438354,\n",
              " 'Veenker': 0.004794520547945206,\n",
              " 'NPkVill': 0.003424657534246575,\n",
              " 'Blueste': 0.0013698630136986301}"
            ]
          },
          "metadata": {},
          "execution_count": 12
        }
      ]
    },
    {
      "cell_type": "code",
      "metadata": {
        "colab": {
          "base_uri": "https://localhost:8080/",
          "height": 407
        },
        "id": "GVkT4UNg0YrA",
        "outputId": "340e4a73-cd45-4bb7-c20b-238be5b9a8e6"
      },
      "source": [
        "X_train"
      ],
      "execution_count": 13,
      "outputs": [
        {
          "output_type": "execute_result",
          "data": {
            "text/plain": [
              "      Neighborhood Exterior1st Exterior2nd\n",
              "710             37     VinylSd     VinylSd\n",
              "72              58     VinylSd     VinylSd\n",
              "692             25     MetalSd     MetalSd\n",
              "798             59     VinylSd     VinylSd\n",
              "1023             9     VinylSd     VinylSd\n",
              "...            ...         ...         ...\n",
              "1245            51     VinylSd     VinylSd\n",
              "1187            31     ImStucc     ImStucc\n",
              "1182            31     Wd Sdng     ImStucc\n",
              "587             55     HdBoard     HdBoard\n",
              "787             43     VinylSd     VinylSd\n",
              "\n",
              "[1022 rows x 3 columns]"
            ],
            "text/html": "<div>\n<style scoped>\n    .dataframe tbody tr th:only-of-type {\n        vertical-align: middle;\n    }\n\n    .dataframe tbody tr th {\n        vertical-align: top;\n    }\n\n    .dataframe thead th {\n        text-align: right;\n    }\n</style>\n<table border=\"1\" class=\"dataframe\">\n  <thead>\n    <tr style=\"text-align: right;\">\n      <th></th>\n      <th>Neighborhood</th>\n      <th>Exterior1st</th>\n      <th>Exterior2nd</th>\n    </tr>\n  </thead>\n  <tbody>\n    <tr>\n      <th>710</th>\n      <td>37</td>\n      <td>VinylSd</td>\n      <td>VinylSd</td>\n    </tr>\n    <tr>\n      <th>72</th>\n      <td>58</td>\n      <td>VinylSd</td>\n      <td>VinylSd</td>\n    </tr>\n    <tr>\n      <th>692</th>\n      <td>25</td>\n      <td>MetalSd</td>\n      <td>MetalSd</td>\n    </tr>\n    <tr>\n      <th>798</th>\n      <td>59</td>\n      <td>VinylSd</td>\n      <td>VinylSd</td>\n    </tr>\n    <tr>\n      <th>1023</th>\n      <td>9</td>\n      <td>VinylSd</td>\n      <td>VinylSd</td>\n    </tr>\n    <tr>\n      <th>...</th>\n      <td>...</td>\n      <td>...</td>\n      <td>...</td>\n    </tr>\n    <tr>\n      <th>1245</th>\n      <td>51</td>\n      <td>VinylSd</td>\n      <td>VinylSd</td>\n    </tr>\n    <tr>\n      <th>1187</th>\n      <td>31</td>\n      <td>ImStucc</td>\n      <td>ImStucc</td>\n    </tr>\n    <tr>\n      <th>1182</th>\n      <td>31</td>\n      <td>Wd Sdng</td>\n      <td>ImStucc</td>\n    </tr>\n    <tr>\n      <th>587</th>\n      <td>55</td>\n      <td>HdBoard</td>\n      <td>HdBoard</td>\n    </tr>\n    <tr>\n      <th>787</th>\n      <td>43</td>\n      <td>VinylSd</td>\n      <td>VinylSd</td>\n    </tr>\n  </tbody>\n</table>\n<p>1022 rows × 3 columns</p>\n</div>"
          },
          "metadata": {},
          "execution_count": 13
        }
      ]
    },
    {
      "cell_type": "code",
      "metadata": {
        "id": "SJL7eJ1Dy5-G"
      },
      "source": [
        "# replace the labels with the frequencies\n",
        "X_train['Neighborhood'] = X_train['Neighborhood'].replace(to_replace=list(frequency_map3.keys()),value=list(frequency_map3.values()))"
      ],
      "execution_count": 14,
      "outputs": []
    },
    {
      "cell_type": "markdown",
      "metadata": {
        "id": "MDGt7Thgg6Kk"
      },
      "source": [
        "\n",
        "\n",
        "## Count or Frequency Encoding with Feature-Engine"
      ]
    },
    {
      "cell_type": "code",
      "metadata": {
        "id": "qUEVlaJJg6Kk",
        "colab": {
          "base_uri": "https://localhost:8080/"
        },
        "outputId": "7a799d6d-f034-43df-84aa-e1055b99a194"
      },
      "source": [
        "# let's separate into training and testing set\n",
        "X_train,X_test,y_train,y_test=train_test_split(data[['Neighborhood','Exterior1st','Exterior2nd']],data['SalePrice'],test_size=0.3)\n",
        "\n",
        "X_train.shape, X_test.shape"
      ],
      "execution_count": 15,
      "outputs": [
        {
          "output_type": "execute_result",
          "data": {
            "text/plain": [
              "((1022, 3), (438, 3))"
            ]
          },
          "metadata": {},
          "execution_count": 15
        }
      ]
    },
    {
      "cell_type": "code",
      "metadata": {
        "id": "g8CHQV7mg6Kl",
        "colab": {
          "base_uri": "https://localhost:8080/",
          "height": 198
        },
        "outputId": "e7bcca00-91a0-4e09-dbbd-32f3b8657e95"
      },
      "source": [
        "# let's explore the result\n",
        "encoder = CountFrequencyEncoder(encoding_method='count')\n",
        "X_train=encoder.fit_transform(X_train)\n",
        "X_train.head()"
      ],
      "execution_count": 16,
      "outputs": [
        {
          "output_type": "execute_result",
          "data": {
            "text/plain": [
              "      Neighborhood  Exterior1st  Exterior2nd\n",
              "774             57          358          354\n",
              "1449            13           45           44\n",
              "493            165           39          139\n",
              "1196            59          358          354\n",
              "1140           165          154          145"
            ],
            "text/html": "<div>\n<style scoped>\n    .dataframe tbody tr th:only-of-type {\n        vertical-align: middle;\n    }\n\n    .dataframe tbody tr th {\n        vertical-align: top;\n    }\n\n    .dataframe thead th {\n        text-align: right;\n    }\n</style>\n<table border=\"1\" class=\"dataframe\">\n  <thead>\n    <tr style=\"text-align: right;\">\n      <th></th>\n      <th>Neighborhood</th>\n      <th>Exterior1st</th>\n      <th>Exterior2nd</th>\n    </tr>\n  </thead>\n  <tbody>\n    <tr>\n      <th>774</th>\n      <td>57</td>\n      <td>358</td>\n      <td>354</td>\n    </tr>\n    <tr>\n      <th>1449</th>\n      <td>13</td>\n      <td>45</td>\n      <td>44</td>\n    </tr>\n    <tr>\n      <th>493</th>\n      <td>165</td>\n      <td>39</td>\n      <td>139</td>\n    </tr>\n    <tr>\n      <th>1196</th>\n      <td>59</td>\n      <td>358</td>\n      <td>354</td>\n    </tr>\n    <tr>\n      <th>1140</th>\n      <td>165</td>\n      <td>154</td>\n      <td>145</td>\n    </tr>\n  </tbody>\n</table>\n</div>"
          },
          "metadata": {},
          "execution_count": 16
        }
      ]
    },
    {
      "cell_type": "markdown",
      "metadata": {
        "id": "s2Q5VGZwg6Km"
      },
      "source": [
        "**Note**\n",
        "\n",
        "If the argument variables is left to None, then the encoder will automatically identify all categorical variables. Is that not sweet?\n",
        "\n",
        "The encoder will not encode numerical variables. So if some of your numerical variables are in fact categories, you will need to re-cast them as object before using the encoder.\n",
        "\n",
        "Note, if there is a variable in the test set, for which the encoder doesn't have a number to assigned (the category was not seen in the train set), the encoder will return an error."
      ]
    }
  ]
}