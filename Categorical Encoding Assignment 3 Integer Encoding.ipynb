{
 "cells": [
  {
   "cell_type": "code",
   "execution_count": 1,
   "metadata": {},
   "outputs": [],
   "source": [
    "#Shubham Tribedi | 1811100002037"
   ]
  },
  {
   "cell_type": "markdown",
   "metadata": {
    "id": "_67iFX5IhlFs"
   },
   "source": [
    "## Integer Encoding\n",
    "\n",
    "Integer encoding consist in replacing the categories by digits from 1 to n (or 0 to n-1, depending the implementation), where n is the number of distinct categories of the variable.\n",
    "\n",
    "The numbers are assigned arbitrarily. This encoding method allows for quick benchmarking of machine learning models. \n",
    "\n",
    "\n",
    "### Advantages\n",
    "\n",
    "- Straightforward to implement\n",
    "- Does not expand the feature space\n",
    "\n",
    "\n",
    "### Limitations\n",
    "\n",
    "- Does not capture any information about the categories labels\n",
    "- Not suitable for linear models.\n",
    "\n",
    "Integer encoding is better suited for non-linear methods which are able to navigate through the arbitrarily assigned digits to try and find patters that relate them to the target.\n",
    "\n",
    "\n",
    "## In this assignment:\n",
    "\n",
    "You have to perform one hot encoding with:\n",
    "- pandas\n",
    "- Scikit-learn\n",
    "- Feature-Engine\n",
    "\n",
    "And the advantages and limitations of each implementation using the House Prices dataset."
   ]
  },
  {
   "cell_type": "code",
   "execution_count": 2,
   "metadata": {
    "id": "C2nCOxS_hlFt"
   },
   "outputs": [],
   "source": [
    "import numpy as np\n",
    "import pandas as pd\n",
    "\n",
    "# to split the datasets\n",
    "from sklearn.model_selection import train_test_split\n",
    "\n",
    "# for integer encoding using sklearn\n",
    "from sklearn.preprocessing import LabelEncoder\n",
    "\n",
    "# for integer encoding using feature-engine\n",
    "from feature_engine.encoding import OrdinalEncoder"
   ]
  },
  {
   "cell_type": "code",
   "execution_count": 3,
   "metadata": {
    "colab": {
     "base_uri": "https://localhost:8080/",
     "height": 195
    },
    "id": "rNbwf58dhlFu",
    "outputId": "4930d57d-00d4-47eb-fb13-d396682d14df"
   },
   "outputs": [
    {
     "output_type": "execute_result",
     "data": {
      "text/plain": [
       "  Neighborhood Exterior1st Exterior2nd  SalePrice\n",
       "0      CollgCr     VinylSd     VinylSd     208500\n",
       "1      Veenker     MetalSd     MetalSd     181500\n",
       "2      CollgCr     VinylSd     VinylSd     223500\n",
       "3      Crawfor     Wd Sdng     Wd Shng     140000\n",
       "4      NoRidge     VinylSd     VinylSd     250000"
      ],
      "text/html": "<div>\n<style scoped>\n    .dataframe tbody tr th:only-of-type {\n        vertical-align: middle;\n    }\n\n    .dataframe tbody tr th {\n        vertical-align: top;\n    }\n\n    .dataframe thead th {\n        text-align: right;\n    }\n</style>\n<table border=\"1\" class=\"dataframe\">\n  <thead>\n    <tr style=\"text-align: right;\">\n      <th></th>\n      <th>Neighborhood</th>\n      <th>Exterior1st</th>\n      <th>Exterior2nd</th>\n      <th>SalePrice</th>\n    </tr>\n  </thead>\n  <tbody>\n    <tr>\n      <th>0</th>\n      <td>CollgCr</td>\n      <td>VinylSd</td>\n      <td>VinylSd</td>\n      <td>208500</td>\n    </tr>\n    <tr>\n      <th>1</th>\n      <td>Veenker</td>\n      <td>MetalSd</td>\n      <td>MetalSd</td>\n      <td>181500</td>\n    </tr>\n    <tr>\n      <th>2</th>\n      <td>CollgCr</td>\n      <td>VinylSd</td>\n      <td>VinylSd</td>\n      <td>223500</td>\n    </tr>\n    <tr>\n      <th>3</th>\n      <td>Crawfor</td>\n      <td>Wd Sdng</td>\n      <td>Wd Shng</td>\n      <td>140000</td>\n    </tr>\n    <tr>\n      <th>4</th>\n      <td>NoRidge</td>\n      <td>VinylSd</td>\n      <td>VinylSd</td>\n      <td>250000</td>\n    </tr>\n  </tbody>\n</table>\n</div>"
     },
     "metadata": {},
     "execution_count": 3
    }
   ],
   "source": [
    "# load dataset\n",
    "data = pd.read_csv(\n",
    "    'houseprice.csv',\n",
    "    usecols=['Neighborhood', 'Exterior1st', 'Exterior2nd', 'SalePrice'])\n",
    "\n",
    "data.head()"
   ]
  },
  {
   "cell_type": "code",
   "execution_count": 4,
   "metadata": {
    "colab": {
     "base_uri": "https://localhost:8080/"
    },
    "id": "tbmc4l_UhlFv",
    "outputId": "0f1bdd98-241b-44ac-bc22-b9c78729bca4"
   },
   "outputs": [
    {
     "output_type": "stream",
     "name": "stdout",
     "text": [
      "Neighborhood : 25 labels\nExterior1st : 15 labels\nExterior2nd : 16 labels\nSalePrice : 663 labels\n"
     ]
    }
   ],
   "source": [
    "# let's have a look at how many labels each variable has\n",
    "for i in data:\n",
    "    print(i,':',len(data[i].unique()),'labels')\n"
   ]
  },
  {
   "cell_type": "code",
   "execution_count": 5,
   "metadata": {
    "colab": {
     "base_uri": "https://localhost:8080/"
    },
    "id": "vwLnJI8phlFw",
    "outputId": "ef0abd39-3c18-4fdc-817c-e9cb35a94ea3"
   },
   "outputs": [
    {
     "output_type": "execute_result",
     "data": {
      "text/plain": [
       "array(['CollgCr', 'Veenker', 'Crawfor', 'NoRidge', 'Mitchel', 'Somerst',\n",
       "       'NWAmes', 'OldTown', 'BrkSide', 'Sawyer', 'NridgHt', 'NAmes',\n",
       "       'SawyerW', 'IDOTRR', 'MeadowV', 'Edwards', 'Timber', 'Gilbert',\n",
       "       'StoneBr', 'ClearCr', 'NPkVill', 'Blmngtn', 'BrDale', 'SWISU',\n",
       "       'Blueste'], dtype=object)"
      ]
     },
     "metadata": {},
     "execution_count": 5
    }
   ],
   "source": [
    "# let's explore the unique categories for Neighborhood , Exterior1st, and Exterior2nd\n",
    "data1 = data['Neighborhood']\n",
    "data1.unique()"
   ]
  },
  {
   "cell_type": "code",
   "execution_count": 6,
   "metadata": {
    "colab": {
     "base_uri": "https://localhost:8080/"
    },
    "id": "vygG_piohlFw",
    "outputId": "6ebb6668-930d-422d-d602-485cba5862ab"
   },
   "outputs": [
    {
     "output_type": "execute_result",
     "data": {
      "text/plain": [
       "array(['VinylSd', 'MetalSd', 'Wd Sdng', 'HdBoard', 'BrkFace', 'WdShing',\n",
       "       'CemntBd', 'Plywood', 'AsbShng', 'Stucco', 'BrkComm', 'AsphShn',\n",
       "       'Stone', 'ImStucc', 'CBlock'], dtype=object)"
      ]
     },
     "metadata": {},
     "execution_count": 6
    }
   ],
   "source": [
    "data2 = data['Exterior1st']\n",
    "data2.unique()"
   ]
  },
  {
   "cell_type": "code",
   "execution_count": 7,
   "metadata": {
    "colab": {
     "base_uri": "https://localhost:8080/"
    },
    "id": "HUDU0iT7hlFw",
    "outputId": "ba2ee112-99b0-4d48-ba5c-f6b51e40b531"
   },
   "outputs": [
    {
     "output_type": "execute_result",
     "data": {
      "text/plain": [
       "array(['VinylSd', 'MetalSd', 'Wd Shng', 'HdBoard', 'Plywood', 'Wd Sdng',\n",
       "       'CmentBd', 'BrkFace', 'Stucco', 'AsbShng', 'Brk Cmn', 'ImStucc',\n",
       "       'AsphShn', 'Stone', 'Other', 'CBlock'], dtype=object)"
      ]
     },
     "metadata": {},
     "execution_count": 7
    }
   ],
   "source": [
    "data3 = data['Exterior2nd']\n",
    "data3.unique()"
   ]
  },
  {
   "cell_type": "markdown",
   "metadata": {
    "id": "Q6cohldUhlFx"
   },
   "source": [
    "### Encoding important\n",
    "\n"
   ]
  },
  {
   "cell_type": "code",
   "execution_count": 8,
   "metadata": {
    "colab": {
     "base_uri": "https://localhost:8080/"
    },
    "id": "Uy8lk2uDhlFx",
    "outputId": "51925668-5139-4127-d7b6-bb885da7f876"
   },
   "outputs": [
    {
     "output_type": "stream",
     "name": "stdout",
     "text": [
      "(1022, 3, 438, 3)\n"
     ]
    }
   ],
   "source": [
    "# let's separate into training and testing set\n",
    "x=data[['Neighborhood','Exterior1st','Exterior2nd']]\n",
    "y=data['SalePrice']\n",
    "x_train, x_test, y_train, y_test = train_test_split(x,y,test_size = 0.3,random_state =0)\n",
    "print(x_train.shape + x_test.shape)"
   ]
  },
  {
   "cell_type": "markdown",
   "metadata": {
    "id": "fB8ziXPVhlFx"
   },
   "source": [
    "## Integer encoding with pandas\n",
    "\n",
    "\n",
    "### Advantages\n",
    "\n",
    "- quick\n",
    "- returns pandas dataframe\n",
    "\n",
    "### Limitations of pandas:\n",
    "\n",
    "- it does not preserve information from train data to propagate to test data\n",
    "\n",
    "We need to capture and save the mappings one by one, manually, if we are planing to use those in production."
   ]
  },
  {
   "cell_type": "code",
   "execution_count": 9,
   "metadata": {
    "colab": {
     "base_uri": "https://localhost:8080/"
    },
    "id": "3iLk4lsDhlFy",
    "outputId": "540bd6e4-c539-4280-bc2a-186e01be7d4e",
    "scrolled": true
   },
   "outputs": [
    {
     "output_type": "execute_result",
     "data": {
      "text/plain": [
       "{'CollgCr': 0,\n",
       " 'Veenker': 1,\n",
       " 'Crawfor': 2,\n",
       " 'NoRidge': 3,\n",
       " 'Mitchel': 4,\n",
       " 'Somerst': 5,\n",
       " 'NWAmes': 6,\n",
       " 'OldTown': 7,\n",
       " 'BrkSide': 8,\n",
       " 'Sawyer': 9,\n",
       " 'NridgHt': 10,\n",
       " 'NAmes': 11,\n",
       " 'SawyerW': 12,\n",
       " 'IDOTRR': 13,\n",
       " 'MeadowV': 14,\n",
       " 'Edwards': 15,\n",
       " 'Timber': 16,\n",
       " 'Gilbert': 17,\n",
       " 'StoneBr': 18,\n",
       " 'ClearCr': 19,\n",
       " 'NPkVill': 20,\n",
       " 'Blmngtn': 21,\n",
       " 'BrDale': 22,\n",
       " 'SWISU': 23,\n",
       " 'Blueste': 24}"
      ]
     },
     "metadata": {},
     "execution_count": 9
    }
   ],
   "source": [
    "# first let's create a dictionary with the mappings of categories to numbers\n",
    "data4 = data1.unique()\n",
    "dic = {}\n",
    "index=0\n",
    "for i in data4:\n",
    "  dic[i] =index\n",
    "  index+=1\n",
    "dic"
   ]
  },
  {
   "cell_type": "markdown",
   "metadata": {
    "id": "3dNFGht8hlFy"
   },
   "source": [
    "The dictionary indicates which number will replace each category. Numbers were assigned arbitrarily from 0 to n - 1 where n is the number of distinct categories."
   ]
  },
  {
   "cell_type": "code",
   "execution_count": 10,
   "metadata": {
    "colab": {
     "base_uri": "https://localhost:8080/"
    },
    "id": "HRUp-eqChlFz",
    "outputId": "ce6c214e-034a-403c-a90a-75f4c157b9e4"
   },
   "outputs": [
    {
     "output_type": "stream",
     "name": "stderr",
     "text": [
      "<ipython-input-10-7fe1d9a44c6c>:2: SettingWithCopyWarning: \nA value is trying to be set on a copy of a slice from a DataFrame.\nTry using .loc[row_indexer,col_indexer] = value instead\n\nSee the caveats in the documentation: https://pandas.pydata.org/pandas-docs/stable/user_guide/indexing.html#returning-a-view-versus-a-copy\n  x_train['Neighborhood']=x_train['Neighborhood'].replace(to_replace=list(dic.keys()),value=list(dic.values()))\n"
     ]
    }
   ],
   "source": [
    "# replace the labels with the integers\n",
    "x_train['Neighborhood']=x_train['Neighborhood'].replace(to_replace=list(dic.keys()),value=list(dic.values()))"
   ]
  },
  {
   "cell_type": "code",
   "execution_count": 11,
   "metadata": {
    "colab": {
     "base_uri": "https://localhost:8080/"
    },
    "id": "ixDwb4g7hlFz",
    "outputId": "e369a2df-edac-4a55-8fdc-346491fd5cba"
   },
   "outputs": [
    {
     "output_type": "execute_result",
     "data": {
      "text/plain": [
       "64       0\n",
       "682     19\n",
       "960      8\n",
       "1384    15\n",
       "1100    23\n",
       "416      9\n",
       "1034     2\n",
       "853     11\n",
       "472     15\n",
       "1011    15\n",
       "Name: Neighborhood, dtype: int64"
      ]
     },
     "metadata": {},
     "execution_count": 11
    }
   ],
   "source": [
    "# let's explore the result\n",
    "\n",
    "x_train['Neighborhood'].head(10)"
   ]
  },
  {
   "cell_type": "code",
   "execution_count": 12,
   "metadata": {
    "id": "BsaP9mJZ18qn"
   },
   "outputs": [],
   "source": [
    "#Exterior1st\n",
    "data5 = data2.unique()\n",
    "dic1 = {}\n",
    "index=0\n",
    "for i in data5:\n",
    "  dic1[i] =index\n",
    "  index+=1\n",
    "#Exterior2nd\n",
    "data6 = data3.unique()\n",
    "dic2 = {}\n",
    "index=0\n",
    "for i in data6:\n",
    "  dic2[i] =index\n",
    "  index+=1"
   ]
  },
  {
   "cell_type": "code",
   "execution_count": 13,
   "metadata": {
    "colab": {
     "base_uri": "https://localhost:8080/",
     "height": 397
    },
    "id": "WK_8OmHFhlFz",
    "outputId": "a9ecd963-8f8f-44c3-d8d0-cebd2062fb86"
   },
   "outputs": [
    {
     "output_type": "stream",
     "name": "stderr",
     "text": [
      "<ipython-input-13-e35ff32977fd>:2: SettingWithCopyWarning: \nA value is trying to be set on a copy of a slice from a DataFrame.\nTry using .loc[row_indexer,col_indexer] = value instead\n\nSee the caveats in the documentation: https://pandas.pydata.org/pandas-docs/stable/user_guide/indexing.html#returning-a-view-versus-a-copy\n  x_train['Exterior1st']=x_train['Exterior1st'].replace(to_replace=list(dic1.keys()),value=list(dic1.values()))\n<ipython-input-13-e35ff32977fd>:3: SettingWithCopyWarning: \nA value is trying to be set on a copy of a slice from a DataFrame.\nTry using .loc[row_indexer,col_indexer] = value instead\n\nSee the caveats in the documentation: https://pandas.pydata.org/pandas-docs/stable/user_guide/indexing.html#returning-a-view-versus-a-copy\n  x_train['Exterior2nd']=x_train['Exterior2nd'].replace(to_replace=list(dic2.keys()),value=list(dic2.values()))\n"
     ]
    },
    {
     "output_type": "execute_result",
     "data": {
      "text/plain": [
       "      Neighborhood  Exterior1st  Exterior2nd\n",
       "64               0            0            0\n",
       "682             19            2            5\n",
       "960              8            2            4\n",
       "1384            15            5            2\n",
       "1100            23            2            5"
      ],
      "text/html": "<div>\n<style scoped>\n    .dataframe tbody tr th:only-of-type {\n        vertical-align: middle;\n    }\n\n    .dataframe tbody tr th {\n        vertical-align: top;\n    }\n\n    .dataframe thead th {\n        text-align: right;\n    }\n</style>\n<table border=\"1\" class=\"dataframe\">\n  <thead>\n    <tr style=\"text-align: right;\">\n      <th></th>\n      <th>Neighborhood</th>\n      <th>Exterior1st</th>\n      <th>Exterior2nd</th>\n    </tr>\n  </thead>\n  <tbody>\n    <tr>\n      <th>64</th>\n      <td>0</td>\n      <td>0</td>\n      <td>0</td>\n    </tr>\n    <tr>\n      <th>682</th>\n      <td>19</td>\n      <td>2</td>\n      <td>5</td>\n    </tr>\n    <tr>\n      <th>960</th>\n      <td>8</td>\n      <td>2</td>\n      <td>4</td>\n    </tr>\n    <tr>\n      <th>1384</th>\n      <td>15</td>\n      <td>5</td>\n      <td>2</td>\n    </tr>\n    <tr>\n      <th>1100</th>\n      <td>23</td>\n      <td>2</td>\n      <td>5</td>\n    </tr>\n  </tbody>\n</table>\n</div>"
     },
     "metadata": {},
     "execution_count": 13
    }
   ],
   "source": [
    "# let's see the final result after encoding\n",
    "x_train['Exterior1st']=x_train['Exterior1st'].replace(to_replace=list(dic1.keys()),value=list(dic1.values()))\n",
    "x_train['Exterior2nd']=x_train['Exterior2nd'].replace(to_replace=list(dic2.keys()),value=list(dic2.values()))\n",
    "x_train.head()"
   ]
  },
  {
   "cell_type": "markdown",
   "metadata": {
    "id": "jf5VbBSshlF0"
   },
   "source": [
    "## Integer Encoding with Scikit-learn"
   ]
  },
  {
   "cell_type": "code",
   "execution_count": 14,
   "metadata": {
    "colab": {
     "base_uri": "https://localhost:8080/"
    },
    "id": "rHgH8V6rhlF0",
    "outputId": "48c2fd34-f873-4a7a-ce1b-91569bba4a33"
   },
   "outputs": [
    {
     "output_type": "stream",
     "name": "stdout",
     "text": [
      "(1022, 3, 438, 3)\n"
     ]
    }
   ],
   "source": [
    "# let's separate into training and testing set\n",
    "x=data[['Neighborhood','Exterior1st','Exterior2nd']]\n",
    "y=data['SalePrice']\n",
    "x_train, x_test, y_train, y_test = train_test_split(x,y,test_size = 0.3,random_state =0)\n",
    "print(x_train.shape + x_test.shape)"
   ]
  },
  {
   "cell_type": "code",
   "execution_count": 15,
   "metadata": {
    "colab": {
     "base_uri": "https://localhost:8080/",
     "height": 498
    },
    "id": "Ea7NhBDyhlF1",
    "outputId": "b008e218-5b14-498f-c988-d36c701cae38"
   },
   "outputs": [
    {
     "output_type": "stream",
     "name": "stderr",
     "text": [
      "<ipython-input-15-665be0edfdfd>:4: SettingWithCopyWarning: \nA value is trying to be set on a copy of a slice from a DataFrame.\nTry using .loc[row_indexer,col_indexer] = value instead\n\nSee the caveats in the documentation: https://pandas.pydata.org/pandas-docs/stable/user_guide/indexing.html#returning-a-view-versus-a-copy\n  train_transformed['Neighborhood'] =le.transform(x_train['Neighborhood'])\n<ipython-input-15-665be0edfdfd>:7: SettingWithCopyWarning: \nA value is trying to be set on a copy of a slice from a DataFrame.\nTry using .loc[row_indexer,col_indexer] = value instead\n\nSee the caveats in the documentation: https://pandas.pydata.org/pandas-docs/stable/user_guide/indexing.html#returning-a-view-versus-a-copy\n  train_transformed['Exterior1st']  = le.transform(x_train['Exterior1st'])\n<ipython-input-15-665be0edfdfd>:10: SettingWithCopyWarning: \nA value is trying to be set on a copy of a slice from a DataFrame.\nTry using .loc[row_indexer,col_indexer] = value instead\n\nSee the caveats in the documentation: https://pandas.pydata.org/pandas-docs/stable/user_guide/indexing.html#returning-a-view-versus-a-copy\n  train_transformed['Exterior2nd'] = le.transform(x_train['Exterior2nd'])\n"
     ]
    },
    {
     "output_type": "execute_result",
     "data": {
      "text/plain": [
       "      Neighborhood  Exterior1st  Exterior2nd\n",
       "64               5           12           13\n",
       "682              4           13           14\n",
       "960              3           13           10\n",
       "1384             7           14           15\n",
       "1100            18           13           14"
      ],
      "text/html": "<div>\n<style scoped>\n    .dataframe tbody tr th:only-of-type {\n        vertical-align: middle;\n    }\n\n    .dataframe tbody tr th {\n        vertical-align: top;\n    }\n\n    .dataframe thead th {\n        text-align: right;\n    }\n</style>\n<table border=\"1\" class=\"dataframe\">\n  <thead>\n    <tr style=\"text-align: right;\">\n      <th></th>\n      <th>Neighborhood</th>\n      <th>Exterior1st</th>\n      <th>Exterior2nd</th>\n    </tr>\n  </thead>\n  <tbody>\n    <tr>\n      <th>64</th>\n      <td>5</td>\n      <td>12</td>\n      <td>13</td>\n    </tr>\n    <tr>\n      <th>682</th>\n      <td>4</td>\n      <td>13</td>\n      <td>14</td>\n    </tr>\n    <tr>\n      <th>960</th>\n      <td>3</td>\n      <td>13</td>\n      <td>10</td>\n    </tr>\n    <tr>\n      <th>1384</th>\n      <td>7</td>\n      <td>14</td>\n      <td>15</td>\n    </tr>\n    <tr>\n      <th>1100</th>\n      <td>18</td>\n      <td>13</td>\n      <td>14</td>\n    </tr>\n  </tbody>\n</table>\n</div>"
     },
     "metadata": {},
     "execution_count": 15
    }
   ],
   "source": [
    "le = LabelEncoder()\n",
    "train_transformed = x_train\n",
    "le.fit(x_train['Neighborhood'])\n",
    "train_transformed['Neighborhood'] =le.transform(x_train['Neighborhood'])\n",
    "\n",
    "le.fit(x_train['Exterior1st'])\n",
    "train_transformed['Exterior1st']  = le.transform(x_train['Exterior1st'])\n",
    "\n",
    "le.fit(x_train['Exterior2nd'])\n",
    "train_transformed['Exterior2nd'] = le.transform(x_train['Exterior2nd'])\n",
    "\n",
    "train_transformed.head()"
   ]
  },
  {
   "cell_type": "code",
   "execution_count": 16,
   "metadata": {
    "colab": {
     "base_uri": "https://localhost:8080/",
     "height": 498
    },
    "id": "vVwxvmSP9M1d",
    "outputId": "11472f48-4397-4c6b-8602-470b2f1e05fd"
   },
   "outputs": [
    {
     "output_type": "stream",
     "name": "stderr",
     "text": [
      "<ipython-input-16-d5e4076a8a3d>:3: SettingWithCopyWarning: \nA value is trying to be set on a copy of a slice from a DataFrame.\nTry using .loc[row_indexer,col_indexer] = value instead\n\nSee the caveats in the documentation: https://pandas.pydata.org/pandas-docs/stable/user_guide/indexing.html#returning-a-view-versus-a-copy\n  test_transformed['Neighborhood'] =le.transform(x_test['Neighborhood'])\n<ipython-input-16-d5e4076a8a3d>:6: SettingWithCopyWarning: \nA value is trying to be set on a copy of a slice from a DataFrame.\nTry using .loc[row_indexer,col_indexer] = value instead\n\nSee the caveats in the documentation: https://pandas.pydata.org/pandas-docs/stable/user_guide/indexing.html#returning-a-view-versus-a-copy\n  test_transformed['Exterior1st'] = le.transform(x_test['Exterior1st'])\n<ipython-input-16-d5e4076a8a3d>:9: SettingWithCopyWarning: \nA value is trying to be set on a copy of a slice from a DataFrame.\nTry using .loc[row_indexer,col_indexer] = value instead\n\nSee the caveats in the documentation: https://pandas.pydata.org/pandas-docs/stable/user_guide/indexing.html#returning-a-view-versus-a-copy\n  test_transformed['Exterior2nd'] = le.transform(x_test['Exterior2nd'])\n"
     ]
    },
    {
     "output_type": "execute_result",
     "data": {
      "text/plain": [
       "     Neighborhood  Exterior1st  Exterior2nd\n",
       "529             5            9            9\n",
       "491            11            9           12\n",
       "459             2            5            7\n",
       "279             3            6            8\n",
       "655             1            4            6"
      ],
      "text/html": "<div>\n<style scoped>\n    .dataframe tbody tr th:only-of-type {\n        vertical-align: middle;\n    }\n\n    .dataframe tbody tr th {\n        vertical-align: top;\n    }\n\n    .dataframe thead th {\n        text-align: right;\n    }\n</style>\n<table border=\"1\" class=\"dataframe\">\n  <thead>\n    <tr style=\"text-align: right;\">\n      <th></th>\n      <th>Neighborhood</th>\n      <th>Exterior1st</th>\n      <th>Exterior2nd</th>\n    </tr>\n  </thead>\n  <tbody>\n    <tr>\n      <th>529</th>\n      <td>5</td>\n      <td>9</td>\n      <td>9</td>\n    </tr>\n    <tr>\n      <th>491</th>\n      <td>11</td>\n      <td>9</td>\n      <td>12</td>\n    </tr>\n    <tr>\n      <th>459</th>\n      <td>2</td>\n      <td>5</td>\n      <td>7</td>\n    </tr>\n    <tr>\n      <th>279</th>\n      <td>3</td>\n      <td>6</td>\n      <td>8</td>\n    </tr>\n    <tr>\n      <th>655</th>\n      <td>1</td>\n      <td>4</td>\n      <td>6</td>\n    </tr>\n  </tbody>\n</table>\n</div>"
     },
     "metadata": {},
     "execution_count": 16
    }
   ],
   "source": [
    "test_transformed = x_test\n",
    "le.fit(x_test['Neighborhood'])\n",
    "test_transformed['Neighborhood'] =le.transform(x_test['Neighborhood'])\n",
    "\n",
    "le.fit(x_test['Exterior1st'])\n",
    "test_transformed['Exterior1st'] = le.transform(x_test['Exterior1st'])\n",
    "\n",
    "le.fit(x_test['Exterior2nd'])\n",
    "test_transformed['Exterior2nd'] = le.transform(x_test['Exterior2nd'])\n",
    "\n",
    "test_transformed.head()"
   ]
  },
  {
   "cell_type": "markdown",
   "metadata": {
    "id": "DB6Jo-w4hlF1"
   },
   "source": [
    "Finally, there is another Scikit-learn transformer, the OrdinalEncoder, to encode multiple variables at the same time. However, this transformer returns a NumPy array without column names, so it is not my favourite implementation. More details here: https://scikit-learn.org/stable/modules/generated/sklearn.preprocessing.OrdinalEncoder.html "
   ]
  },
  {
   "cell_type": "markdown",
   "metadata": {
    "id": "aifVYaXahlF1"
   },
   "source": [
    "## Integer Encoding with Feature-Engine"
   ]
  },
  {
   "cell_type": "code",
   "execution_count": 17,
   "metadata": {
    "colab": {
     "base_uri": "https://localhost:8080/"
    },
    "id": "5T566PWKhlF2",
    "outputId": "e52d3bde-2627-4056-8660-a3151b3f9951"
   },
   "outputs": [
    {
     "output_type": "stream",
     "name": "stdout",
     "text": [
      "(1022, 3, 438, 3)\n"
     ]
    }
   ],
   "source": [
    "# let's separate into training and testing set\n",
    "x=data[['Neighborhood','Exterior1st','Exterior2nd']]\n",
    "y=data['SalePrice']\n",
    "x_train, x_test, y_train, y_test = train_test_split(x,y,test_size = 0.3,random_state =0)\n",
    "print(x_train.shape + x_test.shape)\n"
   ]
  },
  {
   "cell_type": "code",
   "execution_count": 18,
   "metadata": {
    "colab": {
     "base_uri": "https://localhost:8080/",
     "height": 402
    },
    "id": "9G5bgM-E_fZt",
    "outputId": "c1e55667-a117-4ca5-b1c3-fa508a72ac67"
   },
   "outputs": [
    {
     "output_type": "execute_result",
     "data": {
      "text/plain": [
       "      Neighborhood  Exterior1st  Exterior2nd\n",
       "64              16           11           13\n",
       "682             17            5            7\n",
       "960              4            5            8\n",
       "1384             3            4            4\n",
       "1100             8            5            7\n",
       "...            ...          ...          ...\n",
       "763             24           11           13\n",
       "835              6           11            9\n",
       "1216             6           11           13\n",
       "559             15           11           13\n",
       "684             24           11           13\n",
       "\n",
       "[1022 rows x 3 columns]"
      ],
      "text/html": "<div>\n<style scoped>\n    .dataframe tbody tr th:only-of-type {\n        vertical-align: middle;\n    }\n\n    .dataframe tbody tr th {\n        vertical-align: top;\n    }\n\n    .dataframe thead th {\n        text-align: right;\n    }\n</style>\n<table border=\"1\" class=\"dataframe\">\n  <thead>\n    <tr style=\"text-align: right;\">\n      <th></th>\n      <th>Neighborhood</th>\n      <th>Exterior1st</th>\n      <th>Exterior2nd</th>\n    </tr>\n  </thead>\n  <tbody>\n    <tr>\n      <th>64</th>\n      <td>16</td>\n      <td>11</td>\n      <td>13</td>\n    </tr>\n    <tr>\n      <th>682</th>\n      <td>17</td>\n      <td>5</td>\n      <td>7</td>\n    </tr>\n    <tr>\n      <th>960</th>\n      <td>4</td>\n      <td>5</td>\n      <td>8</td>\n    </tr>\n    <tr>\n      <th>1384</th>\n      <td>3</td>\n      <td>4</td>\n      <td>4</td>\n    </tr>\n    <tr>\n      <th>1100</th>\n      <td>8</td>\n      <td>5</td>\n      <td>7</td>\n    </tr>\n    <tr>\n      <th>...</th>\n      <td>...</td>\n      <td>...</td>\n      <td>...</td>\n    </tr>\n    <tr>\n      <th>763</th>\n      <td>24</td>\n      <td>11</td>\n      <td>13</td>\n    </tr>\n    <tr>\n      <th>835</th>\n      <td>6</td>\n      <td>11</td>\n      <td>9</td>\n    </tr>\n    <tr>\n      <th>1216</th>\n      <td>6</td>\n      <td>11</td>\n      <td>13</td>\n    </tr>\n    <tr>\n      <th>559</th>\n      <td>15</td>\n      <td>11</td>\n      <td>13</td>\n    </tr>\n    <tr>\n      <th>684</th>\n      <td>24</td>\n      <td>11</td>\n      <td>13</td>\n    </tr>\n  </tbody>\n</table>\n<p>1022 rows × 3 columns</p>\n</div>"
     },
     "metadata": {},
     "execution_count": 18
    }
   ],
   "source": [
    "Ordinal = OrdinalEncoder()\n",
    "Ordinal.fit(x_train,y_train)\n",
    "Ordinal.transform(x_train)"
   ]
  },
  {
   "cell_type": "code",
   "execution_count": 19,
   "metadata": {
    "colab": {
     "base_uri": "https://localhost:8080/",
     "height": 402
    },
    "id": "7Tr1urUIAdN4",
    "outputId": "e13227f0-033b-4685-ff11-725fbe348bc1"
   },
   "outputs": [
    {
     "output_type": "execute_result",
     "data": {
      "text/plain": [
       "      Neighborhood  Exterior1st  Exterior2nd\n",
       "529             15            5            9\n",
       "491              7            5            3\n",
       "459              4            3            4\n",
       "279             18            7            7\n",
       "655              1            4           13\n",
       "...            ...          ...          ...\n",
       "271             18            7            7\n",
       "445              5            5            3\n",
       "654             22            3            4\n",
       "1280            12            9           10\n",
       "898             23            9           10\n",
       "\n",
       "[438 rows x 3 columns]"
      ],
      "text/html": "<div>\n<style scoped>\n    .dataframe tbody tr th:only-of-type {\n        vertical-align: middle;\n    }\n\n    .dataframe tbody tr th {\n        vertical-align: top;\n    }\n\n    .dataframe thead th {\n        text-align: right;\n    }\n</style>\n<table border=\"1\" class=\"dataframe\">\n  <thead>\n    <tr style=\"text-align: right;\">\n      <th></th>\n      <th>Neighborhood</th>\n      <th>Exterior1st</th>\n      <th>Exterior2nd</th>\n    </tr>\n  </thead>\n  <tbody>\n    <tr>\n      <th>529</th>\n      <td>15</td>\n      <td>5</td>\n      <td>9</td>\n    </tr>\n    <tr>\n      <th>491</th>\n      <td>7</td>\n      <td>5</td>\n      <td>3</td>\n    </tr>\n    <tr>\n      <th>459</th>\n      <td>4</td>\n      <td>3</td>\n      <td>4</td>\n    </tr>\n    <tr>\n      <th>279</th>\n      <td>18</td>\n      <td>7</td>\n      <td>7</td>\n    </tr>\n    <tr>\n      <th>655</th>\n      <td>1</td>\n      <td>4</td>\n      <td>13</td>\n    </tr>\n    <tr>\n      <th>...</th>\n      <td>...</td>\n      <td>...</td>\n      <td>...</td>\n    </tr>\n    <tr>\n      <th>271</th>\n      <td>18</td>\n      <td>7</td>\n      <td>7</td>\n    </tr>\n    <tr>\n      <th>445</th>\n      <td>5</td>\n      <td>5</td>\n      <td>3</td>\n    </tr>\n    <tr>\n      <th>654</th>\n      <td>22</td>\n      <td>3</td>\n      <td>4</td>\n    </tr>\n    <tr>\n      <th>1280</th>\n      <td>12</td>\n      <td>9</td>\n      <td>10</td>\n    </tr>\n    <tr>\n      <th>898</th>\n      <td>23</td>\n      <td>9</td>\n      <td>10</td>\n    </tr>\n  </tbody>\n</table>\n<p>438 rows × 3 columns</p>\n</div>"
     },
     "metadata": {},
     "execution_count": 19
    }
   ],
   "source": [
    "Ordinal.fit(x_test,y_test)\n",
    "Ordinal.transform(x_test)"
   ]
  },
  {
   "cell_type": "code",
   "execution_count": 20,
   "metadata": {
    "id": "KtjFD6obhlF2"
   },
   "outputs": [],
   "source": [
    "# Achieve the same using Feature Engine"
   ]
  },
  {
   "cell_type": "markdown",
   "metadata": {
    "id": "3aLPJnIAhlF2"
   },
   "source": [
    "**Note**\n",
    "\n",
    "If the argument variables is left to None, then the encoder will automatically identify all categorical variables. Is that not sweet?\n",
    "\n",
    "The encoder will not encode numerical variables. So if some of your numerical variables are in fact categories, you will need to re-cast them as object before using the encoder.\n",
    "\n",
    "Note, if there is a variable in the test set, for which the encoder doesn't have a number to assigned (the category was not seen in the train set), the encoder will return an error."
   ]
  }
 ],
 "metadata": {
  "colab": {
   "name": "Prabhakar Adak_Categorical Encoading Assignment 3-Integer-Encoding.ipynb",
   "provenance": []
  },
  "kernelspec": {
   "name": "python393jvsc74a57bd0071a5d89032fd3808cb27563172e896b82f0c2cbf3a41e9bb8348c094bc0a7ac",
   "display_name": "Python 3.9.3 64-bit"
  },
  "language_info": {
   "codemirror_mode": {
    "name": "ipython",
    "version": 3
   },
   "file_extension": ".py",
   "mimetype": "text/x-python",
   "name": "python",
   "nbconvert_exporter": "python",
   "pygments_lexer": "ipython3",
   "version": "3.9.3"
  },
  "toc": {
   "base_numbering": 1,
   "nav_menu": {},
   "number_sections": true,
   "sideBar": true,
   "skip_h1_title": false,
   "title_cell": "Table of Contents",
   "title_sidebar": "Contents",
   "toc_cell": false,
   "toc_position": {},
   "toc_section_display": "block",
   "toc_window_display": true
  },
  "metadata": {
   "interpreter": {
    "hash": "071a5d89032fd3808cb27563172e896b82f0c2cbf3a41e9bb8348c094bc0a7ac"
   }
  }
 },
 "nbformat": 4,
 "nbformat_minor": 1
}
